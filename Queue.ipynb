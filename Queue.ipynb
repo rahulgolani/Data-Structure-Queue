{
 "cells": [
  {
   "cell_type": "markdown",
   "metadata": {},
   "source": [
    "A Queue is a linear structure which follows a particular order in which the operations are performed. The order is First In First Out (FIFO)."
   ]
  },
  {
   "cell_type": "markdown",
   "metadata": {},
   "source": [
    "Operations on Queue:\n",
    "    \n",
    "Mainly the following four basic operations are performed on queue:\n",
    "\n",
    "Enqueue: Adds an item to the queue. If the queue is full, then it is said to be an Overflow condition.\n",
    "\n",
    "Dequeue: Removes an item from the queue. The items are popped in the same order in which they are pushed. If the queue is empty, then it is said to be an Underflow condition.\n",
    "\n",
    "Front: Get the front item from queue.\n",
    "\n",
    "Rear: Get the last item from queue.\n",
    "\n"
   ]
  },
  {
   "cell_type": "markdown",
   "metadata": {},
   "source": [
    "# Array implementation Of Queue"
   ]
  },
  {
   "cell_type": "markdown",
   "metadata": {},
   "source": [
    "Maintain 2 indices front and rear. We enqueue an item at the rear and dequeue an item from the front. If we simply increment front and rear indices, then there may be problems, the front may reach the end of the array. The solution to this problem is to increase front and rear in circular manner"
   ]
  },
  {
   "cell_type": "code",
   "execution_count": 1,
   "metadata": {},
   "outputs": [
    {
     "name": "stdout",
     "output_type": "stream",
     "text": [
      "20\n",
      "90\n",
      "Queue Full\n"
     ]
    }
   ],
   "source": [
    "class Queue:\n",
    "\n",
    "    def __init__(self,capacity):\n",
    "        self.front=self.size=0\n",
    "        self.rear=capacity-1\n",
    "        self.queue=[None]*capacity\n",
    "        self.capacity=capacity\n",
    "\n",
    "    def isFull(self):\n",
    "        if self.size==self.capacity:\n",
    "            return True\n",
    "        return False\n",
    "\n",
    "    def isEmpty(self):\n",
    "        if self.size==0:\n",
    "            return True\n",
    "        return False\n",
    "\n",
    "    def Enqueue(self,data):\n",
    "        if self.isFull():\n",
    "            print('Queue Full')\n",
    "            return\n",
    "        self.rear=(self.rear+1)%self.capacity\n",
    "        self.queue[self.rear]=data\n",
    "        self.size+=1\n",
    "\n",
    "    def dequeue(self):\n",
    "        if self.isEmpty():\n",
    "            print('Queue is empty')\n",
    "            return\n",
    "        value=self.queue[self.front]\n",
    "        self.size-=1\n",
    "        self.front=(self.front+1)%self.capacity\n",
    "        return value\n",
    "\n",
    "    def getRear(self):\n",
    "        if self.isEmpty():\n",
    "            print('Empty queue')\n",
    "            return\n",
    "        print(self.queue[self.rear])\n",
    "\n",
    "    def getFront(self):\n",
    "        if self.isEmpty():\n",
    "            print('Queue is empty')\n",
    "            return\n",
    "        print(self.queue[self.front])\n",
    "\n",
    "if __name__ == '__main__':\n",
    "    queue = Queue(4)\n",
    "    queue.Enqueue(10)\n",
    "    queue.Enqueue(20)\n",
    "    queue.Enqueue(30)\n",
    "    queue.Enqueue(40)\n",
    "    queue.dequeue()\n",
    "    queue.Enqueue(90)\n",
    "    queue.getFront()\n",
    "    queue.getRear()\n",
    "    queue.Enqueue(34)\n"
   ]
  },
  {
   "cell_type": "markdown",
   "metadata": {},
   "source": [
    "<strong>Time Complexity:</strong>\n",
    "    \n",
    "Operations              Complexity\n",
    "\n",
    "Enque(insertion)           O(1)\n",
    "\n",
    "Deque(deletion)            O(1)\n",
    "\n",
    "Front(Get front)           O(1)\n",
    "\n",
    "Rear(Get Rear)             O(1) "
   ]
  },
  {
   "cell_type": "markdown",
   "metadata": {},
   "source": [
    "Space Complexity - O(n)"
   ]
  },
  {
   "cell_type": "markdown",
   "metadata": {},
   "source": [
    "--Pros of Array Implementation:\n",
    "\n",
    "Easy to implement.\n",
    "\n",
    "--Cons of Array Implementation:\n",
    "\n",
    "Static Data Structure, fixed size.\n",
    "\n",
    "If the queue has a large number of enqueue and dequeue operations, at some point we may not we able to insert elements in the queue even if the queue is empty (this problem is avoided by using circular queue)."
   ]
  },
  {
   "cell_type": "markdown",
   "metadata": {},
   "source": [
    "# Queue – Linked List Implementation"
   ]
  },
  {
   "cell_type": "code",
   "execution_count": 1,
   "metadata": {},
   "outputs": [
    {
     "name": "stdout",
     "output_type": "stream",
     "text": [
      "30\n",
      "50\n"
     ]
    }
   ],
   "source": [
    "import gc\n",
    "\n",
    "class Node:\n",
    "    def __init__(self,data):\n",
    "        self.data=data\n",
    "        self.next=None\n",
    "\n",
    "class Queue:\n",
    "\n",
    "    def __init__(self):\n",
    "        self.head=None\n",
    "        self.end=None\n",
    "\n",
    "    def Enqueue(self,data):\n",
    "        temp=Node(data)\n",
    "        if self.head is None:\n",
    "            self.head=temp\n",
    "            self.end=temp\n",
    "            return\n",
    "        self.end.next=temp\n",
    "        self.end=temp\n",
    "\n",
    "    def Dequeue(self):\n",
    "        if self.head is None:\n",
    "            print('Queue is empty')\n",
    "            return\n",
    "        temp=self.head\n",
    "        self.head=self.head.next\n",
    "        if self.head is None:#Important\n",
    "            self.end=None\n",
    "        temp=None\n",
    "        gc.collect()\n",
    "\n",
    "\n",
    "    def getFront(self):\n",
    "        if self.head is None:\n",
    "            print('Queue is empty')\n",
    "            return\n",
    "        print(self.head.data)\n",
    "\n",
    "    def getRear(self):\n",
    "        if self.head is None:\n",
    "            print('Queue is empty')\n",
    "            return\n",
    "        print(self.end.data)\n",
    "\n",
    "if __name__ == '__main__':\n",
    "    q = Queue()\n",
    "    q.Enqueue(10)\n",
    "    q.Enqueue(20)\n",
    "    q.Dequeue()\n",
    "    q.Dequeue()\n",
    "    q.Enqueue(30)\n",
    "    q.Enqueue(40)\n",
    "    q.Enqueue(50)\n",
    "    q.getFront()\n",
    "    q.getRear() \n"
   ]
  },
  {
   "cell_type": "markdown",
   "metadata": {},
   "source": [
    "# Applications of Queue Data Structure"
   ]
  },
  {
   "cell_type": "markdown",
   "metadata": {},
   "source": [
    "1) When a resource is shared among multiple consumers. Examples include CPU scheduling, Disk Scheduling.\n",
    "\n",
    "2) When data is transferred asynchronously (data not necessarily received at same rate as sent) between two processes. Examples include IO Buffers, pipes, file IO, etc"
   ]
  },
  {
   "cell_type": "markdown",
   "metadata": {},
   "source": [
    "Arithmetic expression evaluation. An important application of stacks is in parsing"
   ]
  },
  {
   "cell_type": "markdown",
   "metadata": {},
   "source": [
    "Function-call abstraction. Most programs use stacks implicitly because they support a natural way to implement function calls"
   ]
  },
  {
   "cell_type": "markdown",
   "metadata": {},
   "source": [
    "# Priority Queue"
   ]
  },
  {
   "cell_type": "markdown",
   "metadata": {},
   "source": [
    "Using Arrays"
   ]
  },
  {
   "cell_type": "markdown",
   "metadata": {},
   "source": [
    "insert() operation can be implemented by adding an item at end of array in O(1) time.\n",
    "\n",
    "getHighestPriority() operation can be implemented by linearly searching the highest priority item in array. This operation takes O(n) time.\n",
    "\n",
    "deleteHighestPriority() operation can be implemented by first linearly searching an item, then removing the item by moving all subsequent items one position back."
   ]
  },
  {
   "cell_type": "markdown",
   "metadata": {},
   "source": [
    "We can also use Linked List, time complexity of all operations with linked list remains same as array. The advantage with linked list is deleteHighestPriority() can be more efficient as we don’t have to move items."
   ]
  },
  {
   "cell_type": "markdown",
   "metadata": {},
   "source": [
    "<strong>Using Heaps:</strong>"
   ]
  },
  {
   "cell_type": "markdown",
   "metadata": {},
   "source": [
    "Heap is generally preferred for priority queue implementation because heaps provide better performance compared arrays or linked list. In a Binary Heap, getHighestPriority() can be implemented in O(1) time, insert() can be implemented in O(Logn) time and deleteHighestPriority() can also be implemented in O(Logn) time."
   ]
  },
  {
   "cell_type": "code",
   "execution_count": 4,
   "metadata": {},
   "outputs": [
    {
     "name": "stdout",
     "output_type": "stream",
     "text": [
      "[2, 4, 3, 5]\n",
      "[4, 2, 3]\n"
     ]
    }
   ],
   "source": [
    "import heapq\n",
    "heap=[]\n",
    "heapq._heapify_max(heap)\n",
    "heapq.heappush(heap,5)\n",
    "heapq.heappush(heap,2)\n",
    "heapq.heappush(heap,3)\n",
    "heapq.heappush(heap,4)\n",
    "print(heap)\n",
    "heapq._heapify_max(heap)\n",
    "heapq._heappop_max(heap)\n",
    "print(heap)\n"
   ]
  },
  {
   "cell_type": "markdown",
   "metadata": {},
   "source": [
    "# Dequeue"
   ]
  },
  {
   "cell_type": "markdown",
   "metadata": {},
   "source": [
    "Deque or Double Ended Queue is a generalized version of Queue data structure that allows insert and delete at both ends."
   ]
  },
  {
   "cell_type": "markdown",
   "metadata": {},
   "source": [
    "insertFront(): Adds an item at the front of Deque.\n",
    "\n",
    "insertLast(): Adds an item at the rear of Deque.\n",
    "\n",
    "deleteFront(): Deletes an item from front of Deque.\n",
    "\n",
    "deleteLast(): Deletes an item from rear of Deque."
   ]
  },
  {
   "cell_type": "code",
   "execution_count": 6,
   "metadata": {},
   "outputs": [
    {
     "name": "stdout",
     "output_type": "stream",
     "text": [
      "1  \n",
      "4 3 2 1 5  \n",
      "Dequeue empty\n",
      "None\n",
      "None\n"
     ]
    }
   ],
   "source": [
    "import gc\n",
    "class Node:\n",
    "    def __init__(self,data):\n",
    "        self.data=data\n",
    "        self.next=None\n",
    "        self.prev=None\n",
    "\n",
    "class Dequeue:\n",
    "    def __init__(self):\n",
    "        self.head=None\n",
    "        self.rear=None\n",
    "\n",
    "    def insertAtFront(self,data):\n",
    "        temp=Node(data)\n",
    "        if self.head is None:\n",
    "            self.head=temp\n",
    "            self.rear=temp\n",
    "            return\n",
    "        temp.next=self.head\n",
    "        self.head.prev=temp\n",
    "        self.head=temp\n",
    "\n",
    "    def insertAtRear(self,data):\n",
    "        temp=Node(data)\n",
    "        if self.head is None:\n",
    "            self.head=temp\n",
    "            self.rear=temp\n",
    "            return\n",
    "        self.rear.next=temp\n",
    "        temp.prev=self.rear\n",
    "        self.rear=temp\n",
    "\n",
    "    def deleteAtFront(self):\n",
    "        if self.head is None:\n",
    "            print('Dequeue empty')\n",
    "            return\n",
    "        temp=self.head\n",
    "        self.head=self.head.next\n",
    "        if self.head is None:\n",
    "            self.rear=None\n",
    "        else:\n",
    "            self.head.prev=None\n",
    "        temp=None\n",
    "        gc.collect()\n",
    "\n",
    "    def deleteAtRear(self):\n",
    "        if self.head is None:\n",
    "            print('Dequeue is empty')\n",
    "            return\n",
    "        temp=self.rear\n",
    "        if self.rear.prev:\n",
    "            self.rear=self.rear.prev\n",
    "            self.rear.next=None\n",
    "        else:\n",
    "            self.rear=None\n",
    "            self.head=None\n",
    "        temp=None\n",
    "        gc.collect()\n",
    "\n",
    "    def traverse(self):\n",
    "        if self.head is None:\n",
    "            return\n",
    "        temp=self.head\n",
    "        while temp:\n",
    "            print(temp.data,end=\" \")\n",
    "            temp=temp.next\n",
    "        print(' ')\n",
    "if __name__ == '__main__':\n",
    "    dq=Dequeue()\n",
    "    dq.insertAtRear(1)\n",
    "    dq.traverse()\n",
    "    dq.insertAtFront(2)\n",
    "    dq.insertAtFront(3)\n",
    "    dq.insertAtFront(4)\n",
    "    dq.insertAtRear(5)\n",
    "    dq.traverse()\n",
    "    dq.deleteAtFront()\n",
    "    dq.deleteAtFront()\n",
    "    dq.deleteAtFront()\n",
    "    dq.deleteAtFront()\n",
    "    dq.deleteAtFront()\n",
    "    dq.deleteAtFront()\n",
    "    print(dq.head)\n",
    "    print(dq.rear)\n",
    "    dq.traverse()\n"
   ]
  },
  {
   "cell_type": "markdown",
   "metadata": {},
   "source": [
    "# Applications of Dequeue"
   ]
  },
  {
   "cell_type": "markdown",
   "metadata": {},
   "source": [
    "Since Deque supports both stack and queue operations, it can be used as both"
   ]
  },
  {
   "cell_type": "markdown",
   "metadata": {},
   "source": [
    "The problems where elements need to be removed and or added both ends can be efficiently solved using Deque."
   ]
  },
  {
   "cell_type": "markdown",
   "metadata": {},
   "source": [
    "# Sliding Window Maximum (Maximum of all subarrays of size k)"
   ]
  },
  {
   "cell_type": "markdown",
   "metadata": {},
   "source": [
    "# 0-1 BFS"
   ]
  },
  {
   "cell_type": "markdown",
   "metadata": {},
   "source": [
    "# Find the first circular tour that visits all petrol pumps"
   ]
  },
  {
   "cell_type": "markdown",
   "metadata": {},
   "source": [
    "# Circular Queue"
   ]
  },
  {
   "cell_type": "markdown",
   "metadata": {},
   "source": [
    "Same implementation as Queue as we covered the circular movement using modular arithmetic"
   ]
  },
  {
   "cell_type": "markdown",
   "metadata": {},
   "source": [
    "<strong>Applications:</strong> \n",
    "\n",
    "Memory Management: The unused memory locations in the case of ordinary queues can be utilized in circular queues.\n",
    "\n",
    "Traffic system: In computer controlled traffic system, circular queues are used to switch on the traffic lights one by one repeatedly as per the time set.\n",
    "\n",
    "CPU Scheduling: Operating systems often maintain a queue of processes that are ready to execute or that are waiting for a particular event to occur."
   ]
  },
  {
   "cell_type": "markdown",
   "metadata": {},
   "source": [
    "# Queue in Python"
   ]
  },
  {
   "cell_type": "markdown",
   "metadata": {},
   "source": [
    "Using list"
   ]
  },
  {
   "cell_type": "markdown",
   "metadata": {},
   "source": [
    "Using collections.dequeue"
   ]
  },
  {
   "cell_type": "markdown",
   "metadata": {},
   "source": [
    "Using queue.Queue"
   ]
  },
  {
   "cell_type": "markdown",
   "metadata": {},
   "source": [
    "queue.Queue(maxsize) initializes a variable to a maximum size of maxsize. A maxsize of zero ‘0’ means a infinite queue."
   ]
  },
  {
   "cell_type": "markdown",
   "metadata": {},
   "source": [
    "There are various functions available in this module: \n",
    " \n",
    "\n",
    "maxsize – Number of items allowed in the queue.\n",
    "\n",
    "empty() – Return True if the queue is empty, False otherwise.\n",
    "\n",
    "full() – Return True if there are maxsize items in the queue. If the queue was initialized with maxsize=0 (the default), then full() never returns True.\n",
    "\n",
    "get() – Remove and return an item from the queue. If queue is empty, wait until an item is available.\n",
    "\n",
    "get_nowait() – Return an item if one is immediately available, else raise QueueEmpty.\n",
    "\n",
    "put(item) – Put an item into the queue. If the queue is full, wait until a free slot is available before adding the item.\n",
    "\n",
    "put_nowait(item) – Put an item into the queue without blocking. If no free slot is immediately available, raise QueueFull.\n",
    "\n",
    "qsize() – Return the number of items in the queue."
   ]
  },
  {
   "cell_type": "code",
   "execution_count": null,
   "metadata": {},
   "outputs": [],
   "source": []
  }
 ],
 "metadata": {
  "kernelspec": {
   "display_name": "Python 3",
   "language": "python",
   "name": "python3"
  },
  "language_info": {
   "codemirror_mode": {
    "name": "ipython",
    "version": 3
   },
   "file_extension": ".py",
   "mimetype": "text/x-python",
   "name": "python",
   "nbconvert_exporter": "python",
   "pygments_lexer": "ipython3",
   "version": "3.7.6"
  }
 },
 "nbformat": 4,
 "nbformat_minor": 4
}
