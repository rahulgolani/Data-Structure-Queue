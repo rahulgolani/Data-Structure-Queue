{
 "cells": [
  {
   "cell_type": "markdown",
   "metadata": {},
   "source": [
    "A Queue is a linear structure which follows a particular order in which the operations are performed. The order is First In First Out (FIFO)."
   ]
  },
  {
   "cell_type": "markdown",
   "metadata": {},
   "source": [
    "Operations on Queue:\n",
    "    \n",
    "Mainly the following four basic operations are performed on queue:\n",
    "\n",
    "Enqueue: Adds an item to the queue. If the queue is full, then it is said to be an Overflow condition.\n",
    "\n",
    "Dequeue: Removes an item from the queue. The items are popped in the same order in which they are pushed. If the queue is empty, then it is said to be an Underflow condition.\n",
    "\n",
    "Front: Get the front item from queue.\n",
    "\n",
    "Rear: Get the last item from queue.\n",
    "\n"
   ]
  },
  {
   "cell_type": "markdown",
   "metadata": {},
   "source": [
    "# Array implementation Of Queue"
   ]
  },
  {
   "cell_type": "markdown",
   "metadata": {},
   "source": [
    "Maintain 2 indices front and rear. We enqueue an item at the rear and dequeue an item from the front. If we simply increment front and rear indices, then there may be problems, the front may reach the end of the array. The solution to this problem is to increase front and rear in circular manner"
   ]
  },
  {
   "cell_type": "code",
   "execution_count": 1,
   "metadata": {},
   "outputs": [
    {
     "name": "stdout",
     "output_type": "stream",
     "text": [
      "20\n",
      "90\n",
      "Queue Full\n"
     ]
    }
   ],
   "source": [
    "class Queue:\n",
    "\n",
    "    def __init__(self,capacity):\n",
    "        self.front=self.size=0\n",
    "        self.rear=capacity-1\n",
    "        self.queue=[None]*capacity\n",
    "        self.capacity=capacity\n",
    "\n",
    "    def isFull(self):\n",
    "        if self.size==self.capacity:\n",
    "            return True\n",
    "        return False\n",
    "\n",
    "    def isEmpty(self):\n",
    "        if self.size==0:\n",
    "            return True\n",
    "        return False\n",
    "\n",
    "    def Enqueue(self,data):\n",
    "        if self.isFull():\n",
    "            print('Queue Full')\n",
    "            return\n",
    "        self.rear=(self.rear+1)%self.capacity\n",
    "        self.queue[self.rear]=data\n",
    "        self.size+=1\n",
    "\n",
    "    def dequeue(self):\n",
    "        if self.isEmpty():\n",
    "            print('Queue is empty')\n",
    "            return\n",
    "        value=self.queue[self.front]\n",
    "        self.size-=1\n",
    "        self.front=(self.front+1)%self.capacity\n",
    "        return value\n",
    "\n",
    "    def getRear(self):\n",
    "        if self.isEmpty():\n",
    "            print('Empty queue')\n",
    "            return\n",
    "        print(self.queue[self.rear])\n",
    "\n",
    "    def getFront(self):\n",
    "        if self.isEmpty():\n",
    "            print('Queue is empty')\n",
    "            return\n",
    "        print(self.queue[self.front])\n",
    "\n",
    "if __name__ == '__main__':\n",
    "    queue = Queue(4)\n",
    "    queue.Enqueue(10)\n",
    "    queue.Enqueue(20)\n",
    "    queue.Enqueue(30)\n",
    "    queue.Enqueue(40)\n",
    "    queue.dequeue()\n",
    "    queue.Enqueue(90)\n",
    "    queue.getFront()\n",
    "    queue.getRear()\n",
    "    queue.Enqueue(34)\n"
   ]
  },
  {
   "cell_type": "markdown",
   "metadata": {},
   "source": [
    "<strong>Time Complexity:</strong>\n",
    "    \n",
    "Operations              Complexity\n",
    "\n",
    "Enque(insertion)           O(1)\n",
    "\n",
    "Deque(deletion)            O(1)\n",
    "\n",
    "Front(Get front)           O(1)\n",
    "\n",
    "Rear(Get Rear)             O(1) "
   ]
  },
  {
   "cell_type": "markdown",
   "metadata": {},
   "source": [
    "Space Complexity - O(n)"
   ]
  },
  {
   "cell_type": "markdown",
   "metadata": {},
   "source": [
    "--Pros of Array Implementation:\n",
    "\n",
    "Easy to implement.\n",
    "\n",
    "--Cons of Array Implementation:\n",
    "\n",
    "Static Data Structure, fixed size.\n",
    "\n",
    "If the queue has a large number of enqueue and dequeue operations, at some point we may not we able to insert elements in the queue even if the queue is empty (this problem is avoided by using circular queue)."
   ]
  },
  {
   "cell_type": "markdown",
   "metadata": {},
   "source": [
    "# Queue – Linked List Implementation"
   ]
  },
  {
   "cell_type": "code",
   "execution_count": 1,
   "metadata": {},
   "outputs": [
    {
     "name": "stdout",
     "output_type": "stream",
     "text": [
      "10 20 \n",
      "20\n",
      "Queue is empty\n",
      "30\n",
      "50\n"
     ]
    }
   ],
   "source": [
    "import gc\n",
    "\n",
    "class Node:\n",
    "    def __init__(self,data):\n",
    "        self.data=data\n",
    "        self.next=None\n",
    "\n",
    "class Queue:\n",
    "\n",
    "    def __init__(self):\n",
    "        self.head=None\n",
    "        self.end=None\n",
    "\n",
    "    def Enqueue(self,data):\n",
    "        temp=Node(data)\n",
    "        if self.head is None:\n",
    "            self.head=temp\n",
    "            self.end=temp\n",
    "            return\n",
    "        self.end.next=temp\n",
    "        self.end=temp\n",
    "\n",
    "    def Dequeue(self):\n",
    "        if self.head is None:\n",
    "            print('Queue is empty')\n",
    "            return\n",
    "        temp=self.head\n",
    "        self.head=self.head.next\n",
    "        if self.head is None:#Important\n",
    "            self.end=None\n",
    "        temp=None\n",
    "        gc.collect()\n",
    "\n",
    "\n",
    "    def getFront(self):\n",
    "        if self.head is None:\n",
    "            print('Queue is empty')\n",
    "            return\n",
    "        print(self.head.data)\n",
    "\n",
    "    def getRear(self):\n",
    "        if self.head is None:\n",
    "            print('Queue is empty')\n",
    "            return\n",
    "        print(self.end.data)\n",
    "\n",
    "    def traverseQueue(self):\n",
    "        if self.head is None:\n",
    "            return\n",
    "        temp=self.head\n",
    "        while temp:\n",
    "            print(temp.data,end=\" \")\n",
    "            temp=temp.next\n",
    "        print()\n",
    "\n",
    "if __name__ == '__main__':\n",
    "    q = Queue()\n",
    "    q.Enqueue(10)\n",
    "    q.Enqueue(20)\n",
    "    q.traverseQueue()\n",
    "    q.Dequeue()\n",
    "    q.getRear()\n",
    "    q.Dequeue()\n",
    "    q.getRear()\n",
    "    q.Enqueue(30)\n",
    "    q.Enqueue(40)\n",
    "    q.Enqueue(50)\n",
    "    q.getFront()\n",
    "    q.getRear()\n"
   ]
  },
  {
   "cell_type": "markdown",
   "metadata": {},
   "source": [
    "# Applications of Queue Data Structure"
   ]
  },
  {
   "cell_type": "markdown",
   "metadata": {},
   "source": [
    "1) When a resource is shared among multiple consumers. Examples include CPU scheduling, Disk Scheduling.\n",
    "\n",
    "2) When data is transferred asynchronously (data not necessarily received at same rate as sent) between two processes. Examples include IO Buffers, pipes, file IO, etc"
   ]
  },
  {
   "cell_type": "markdown",
   "metadata": {},
   "source": [
    "Arithmetic expression evaluation. An important application of stacks is in parsing"
   ]
  },
  {
   "cell_type": "markdown",
   "metadata": {},
   "source": [
    "Function-call abstraction. Most programs use stacks implicitly because they support a natural way to implement function calls"
   ]
  },
  {
   "cell_type": "markdown",
   "metadata": {},
   "source": [
    "# Priority Queue"
   ]
  },
  {
   "cell_type": "markdown",
   "metadata": {},
   "source": [
    "Using Arrays"
   ]
  },
  {
   "cell_type": "markdown",
   "metadata": {},
   "source": [
    "insert() operation can be implemented by adding an item at end of array in O(1) time.\n",
    "\n",
    "getHighestPriority() operation can be implemented by linearly searching the highest priority item in array. This operation takes O(n) time.\n",
    "\n",
    "deleteHighestPriority() operation can be implemented by first linearly searching an item, then removing the item by moving all subsequent items one position back."
   ]
  },
  {
   "cell_type": "code",
   "execution_count": 3,
   "metadata": {},
   "outputs": [
    {
     "name": "stdout",
     "output_type": "stream",
     "text": [
      "C 67\n",
      "O 79\n",
      "D 68\n",
      "I 73\n",
      "N 78\n",
      "G 71\n",
      "\n",
      "Deleting O\n",
      "C 67\n",
      "D 68\n",
      "I 73\n",
      "N 78\n",
      "G 71\n",
      "\n",
      "Deleting N\n",
      "C 67\n",
      "D 68\n",
      "I 73\n",
      "G 71\n",
      "\n"
     ]
    }
   ],
   "source": [
    "class Node:\n",
    "    def __init__(self,data,priority):\n",
    "        self.data=data\n",
    "        self.priority=priority\n",
    "\n",
    "class PriorityQueue:\n",
    "    def __init__(self):\n",
    "        self.pq=[]\n",
    "\n",
    "def insert(arr,pQueue):\n",
    "    for i in arr:\n",
    "        pQueue.pq.append(Node(i,ord(i)))\n",
    "\n",
    "def traverse(pQueue):\n",
    "    for i in pQueue.pq:\n",
    "        print(i.data,i.priority)\n",
    "    print()\n",
    "\n",
    "def dequeue(pQueue):\n",
    "    if len(pQueue.pq)==0:\n",
    "        print(\"Priority Queue is Empty\")\n",
    "        return\n",
    "    maxPriority=float('-infinity')\n",
    "    maxPriorityIndex=0\n",
    "    for i in range(len(pQueue.pq)):\n",
    "        if pQueue.pq[i].priority>maxPriority:\n",
    "            maxPriority=pQueue.pq[i].priority\n",
    "            maxPriorityIndex=i\n",
    "    print(f\"Deleting {pQueue.pq[maxPriorityIndex].data}\")\n",
    "    del pQueue.pq[maxPriorityIndex]\n",
    "\n",
    "if __name__ == '__main__':\n",
    "    arr=['C','O','D','I','N','G']\n",
    "    pQueue=PriorityQueue()\n",
    "    insert(arr,pQueue)\n",
    "    traverse(pQueue)\n",
    "    dequeue(pQueue)\n",
    "    traverse(pQueue)\n",
    "    dequeue(pQueue)\n",
    "    traverse(pQueue)\n"
   ]
  },
  {
   "cell_type": "markdown",
   "metadata": {},
   "source": [
    "We can also use Linked List, time complexity of all operations with linked list remains same as array. The advantage with linked list is deleteHighestPriority() can be more efficient as we don’t have to move items."
   ]
  },
  {
   "cell_type": "markdown",
   "metadata": {},
   "source": [
    "<strong>Using Heaps:</strong>"
   ]
  },
  {
   "cell_type": "markdown",
   "metadata": {},
   "source": [
    "Heap is generally preferred for priority queue implementation because heaps provide better performance compared arrays or linked list. In a Binary Heap, getHighestPriority() can be implemented in O(1) time, insert() can be implemented in O(Logn) time and deleteHighestPriority() can also be implemented in O(Logn) time."
   ]
  },
  {
   "cell_type": "code",
   "execution_count": 4,
   "metadata": {},
   "outputs": [
    {
     "name": "stdout",
     "output_type": "stream",
     "text": [
      "[2, 4, 3, 5]\n",
      "[4, 2, 3]\n"
     ]
    }
   ],
   "source": [
    "import heapq\n",
    "heap=[]\n",
    "heapq._heapify_max(heap)\n",
    "heapq.heappush(heap,5)\n",
    "heapq.heappush(heap,2)\n",
    "heapq.heappush(heap,3)\n",
    "heapq.heappush(heap,4)\n",
    "print(heap)\n",
    "heapq._heapify_max(heap)\n",
    "heapq._heappop_max(heap)\n",
    "print(heap)\n"
   ]
  },
  {
   "cell_type": "markdown",
   "metadata": {},
   "source": [
    "# Dequeue"
   ]
  },
  {
   "cell_type": "markdown",
   "metadata": {},
   "source": [
    "Deque or Double Ended Queue is a generalized version of Queue data structure that allows insert and delete at both ends."
   ]
  },
  {
   "cell_type": "markdown",
   "metadata": {},
   "source": [
    "insertFront(): Adds an item at the front of Deque.\n",
    "\n",
    "insertLast(): Adds an item at the rear of Deque.\n",
    "\n",
    "deleteFront(): Deletes an item from front of Deque.\n",
    "\n",
    "deleteLast(): Deletes an item from rear of Deque."
   ]
  },
  {
   "cell_type": "markdown",
   "metadata": {},
   "source": [
    "Implemented using Doubly Linked List"
   ]
  },
  {
   "cell_type": "code",
   "execution_count": 6,
   "metadata": {},
   "outputs": [
    {
     "name": "stdout",
     "output_type": "stream",
     "text": [
      "1  \n",
      "4 3 2 1 5  \n",
      "Dequeue empty\n",
      "None\n",
      "None\n"
     ]
    }
   ],
   "source": [
    "import gc\n",
    "class Node:\n",
    "    def __init__(self,data):\n",
    "        self.data=data\n",
    "        self.next=None\n",
    "        self.prev=None\n",
    "\n",
    "class Dequeue:\n",
    "    def __init__(self):\n",
    "        self.head=None\n",
    "        self.rear=None\n",
    "\n",
    "    def insertAtFront(self,data):\n",
    "        temp=Node(data)\n",
    "        if self.head is None:\n",
    "            self.head=temp\n",
    "            self.rear=temp\n",
    "            return\n",
    "        temp.next=self.head\n",
    "        self.head.prev=temp\n",
    "        self.head=temp\n",
    "\n",
    "    def insertAtRear(self,data):\n",
    "        temp=Node(data)\n",
    "        if self.head is None:\n",
    "            self.head=temp\n",
    "            self.rear=temp\n",
    "            return\n",
    "        self.rear.next=temp\n",
    "        temp.prev=self.rear\n",
    "        self.rear=temp\n",
    "\n",
    "    def deleteAtFront(self):\n",
    "        if self.head is None:\n",
    "            print('Dequeue empty')\n",
    "            return\n",
    "        temp=self.head\n",
    "        self.head=self.head.next\n",
    "        if self.head is None:\n",
    "            self.rear=None\n",
    "        else:\n",
    "            self.head.prev=None\n",
    "        temp=None\n",
    "        gc.collect()\n",
    "\n",
    "    def deleteAtRear(self):\n",
    "        if self.head is None:\n",
    "            print('Dequeue is empty')\n",
    "            return\n",
    "        temp=self.rear\n",
    "        if self.rear.prev:\n",
    "            self.rear=self.rear.prev\n",
    "            self.rear.next=None\n",
    "        else:\n",
    "            self.rear=None\n",
    "            self.head=None\n",
    "        temp=None\n",
    "        gc.collect()\n",
    "\n",
    "    def traverse(self):\n",
    "        if self.head is None:\n",
    "            return\n",
    "        temp=self.head\n",
    "        while temp:\n",
    "            print(temp.data,end=\" \")\n",
    "            temp=temp.next\n",
    "        print(' ')\n",
    "if __name__ == '__main__':\n",
    "    dq=Dequeue()\n",
    "    dq.insertAtRear(1)\n",
    "    dq.traverse()\n",
    "    dq.insertAtFront(2)\n",
    "    dq.insertAtFront(3)\n",
    "    dq.insertAtFront(4)\n",
    "    dq.insertAtRear(5)\n",
    "    dq.traverse()\n",
    "    dq.deleteAtFront()\n",
    "    dq.deleteAtFront()\n",
    "    dq.deleteAtFront()\n",
    "    dq.deleteAtFront()\n",
    "    dq.deleteAtFront()\n",
    "    dq.deleteAtFront()\n",
    "    print(dq.head)\n",
    "    print(dq.rear)\n",
    "    dq.traverse()\n"
   ]
  },
  {
   "cell_type": "markdown",
   "metadata": {},
   "source": [
    "# Applications of Dequeue"
   ]
  },
  {
   "cell_type": "markdown",
   "metadata": {},
   "source": [
    "Since Deque supports both stack and queue operations, it can be used as both"
   ]
  },
  {
   "cell_type": "markdown",
   "metadata": {},
   "source": [
    "The problems where elements need to be removed and or added both ends can be efficiently solved using Deque."
   ]
  },
  {
   "cell_type": "markdown",
   "metadata": {},
   "source": [
    "# Sliding Window Maximum (Maximum of all subarrays of size k)"
   ]
  },
  {
   "cell_type": "markdown",
   "metadata": {},
   "source": [
    "# 0-1 BFS"
   ]
  },
  {
   "cell_type": "markdown",
   "metadata": {},
   "source": [
    "# Find the first circular tour that visits all petrol pumps"
   ]
  },
  {
   "cell_type": "markdown",
   "metadata": {},
   "source": [
    "# Circular Queue"
   ]
  },
  {
   "cell_type": "markdown",
   "metadata": {},
   "source": [
    "Same implementation as Queue as we covered the circular movement using modular arithmetic"
   ]
  },
  {
   "cell_type": "markdown",
   "metadata": {},
   "source": [
    "<strong>Applications:</strong> \n",
    "\n",
    "Memory Management: The unused memory locations in the case of ordinary queues can be utilized in circular queues.\n",
    "\n",
    "Traffic system: In computer controlled traffic system, circular queues are used to switch on the traffic lights one by one repeatedly as per the time set.\n",
    "\n",
    "CPU Scheduling: Operating systems often maintain a queue of processes that are ready to execute or that are waiting for a particular event to occur."
   ]
  },
  {
   "cell_type": "markdown",
   "metadata": {},
   "source": [
    "# Queue in Python"
   ]
  },
  {
   "cell_type": "markdown",
   "metadata": {},
   "source": [
    "Using list"
   ]
  },
  {
   "cell_type": "markdown",
   "metadata": {},
   "source": [
    "Using collections.dequeue"
   ]
  },
  {
   "cell_type": "markdown",
   "metadata": {},
   "source": [
    "Using queue.Queue"
   ]
  },
  {
   "cell_type": "markdown",
   "metadata": {},
   "source": [
    "queue.Queue(maxsize) initializes a variable to a maximum size of maxsize. A maxsize of zero ‘0’ means a infinite queue."
   ]
  },
  {
   "cell_type": "markdown",
   "metadata": {},
   "source": [
    "There are various functions available in this module: \n",
    " \n",
    "\n",
    "maxsize – Number of items allowed in the queue.\n",
    "\n",
    "empty() – Return True if the queue is empty, False otherwise.\n",
    "\n",
    "full() – Return True if there are maxsize items in the queue. If the queue was initialized with maxsize=0 (the default), then full() never returns True.\n",
    "\n",
    "get() – Remove and return an item from the queue. If queue is empty, wait until an item is available.\n",
    "\n",
    "get_nowait() – Return an item if one is immediately available, else raise QueueEmpty.\n",
    "\n",
    "put(item) – Put an item into the queue. If the queue is full, wait until a free slot is available before adding the item.\n",
    "\n",
    "put_nowait(item) – Put an item into the queue without blocking. If no free slot is immediately available, raise QueueFull.\n",
    "\n",
    "qsize() – Return the number of items in the queue."
   ]
  },
  {
   "cell_type": "markdown",
   "metadata": {},
   "source": [
    "# Queue using Stacks"
   ]
  },
  {
   "cell_type": "markdown",
   "metadata": {},
   "source": [
    "<strong>Making the enqueue operation costly</strong>"
   ]
  },
  {
   "cell_type": "markdown",
   "metadata": {},
   "source": [
    "While stack1 is not empty, push everything from stack1 to stack2.\n",
    "\n",
    "Push x to stack1 (assuming size of stacks is unlimited).\n",
    "\n",
    "Push everything back to stack1."
   ]
  },
  {
   "cell_type": "code",
   "execution_count": 4,
   "metadata": {},
   "outputs": [
    {
     "name": "stdout",
     "output_type": "stream",
     "text": [
      "1 \n",
      "1 2 \n",
      "2 \n"
     ]
    }
   ],
   "source": [
    "#by making enqueue operation costly\n",
    "\n",
    "class Queue:\n",
    "    def __init__(self):\n",
    "        self.s1=[]\n",
    "        self.s2=[]\n",
    "\n",
    "    def Enqueue(self,data):\n",
    "        if len(self.s1)==0:\n",
    "            self.s1.append(data)\n",
    "            return\n",
    "        while len(self.s1):\n",
    "            self.s2.append(self.s1.pop())\n",
    "        self.s1.append(data)\n",
    "        while len(self.s2):\n",
    "            self.s1.append(self.s2.pop())\n",
    "\n",
    "    def Dequeue(self):\n",
    "        if len(self.s1)==0:\n",
    "            print('Queue is empty')\n",
    "            return\n",
    "        return self.s1.pop()\n",
    "\n",
    "    def traverse(self):\n",
    "        if len(self.s1)==0:\n",
    "            print('Queue is empty')\n",
    "            return\n",
    "        top=len(self.s1)-1\n",
    "        while top>=0:\n",
    "            print(self.s1[top],end=\" \")\n",
    "            top-=1\n",
    "        print('')\n",
    "\n",
    "if __name__ == '__main__':\n",
    "    q=Queue()\n",
    "    q.Enqueue(1)\n",
    "    q.traverse()\n",
    "    q.Enqueue(2)\n",
    "    q.traverse()\n",
    "    q.Dequeue()\n",
    "    q.traverse()\n"
   ]
  },
  {
   "cell_type": "markdown",
   "metadata": {},
   "source": [
    "Time Complexity: \n",
    "\n",
    "Push operation: O(N). In the worst case we have empty whole of stack 1 into stack 2.\n",
    "\n",
    "Pop operation: O(1). Same as pop operation in stack.\n",
    "\n",
    "Auxiliary Space: O(N). \n",
    "Use of stack for storing values."
   ]
  },
  {
   "cell_type": "markdown",
   "metadata": {},
   "source": [
    "<strong>Making the Dequeue Operation Costly</strong>"
   ]
  },
  {
   "cell_type": "markdown",
   "metadata": {},
   "source": [
    "deQueue(q)\n",
    "\n",
    "\n",
    "1) If both stacks are empty then error.\n",
    "\n",
    "2) If stack2 is empty While stack1 is not empty, push everything from stack1 to stack2.\n",
    "\n",
    "3) Pop the element from stack2 and return it.\n",
    "\n",
    "Here time complexity will be O(n)"
   ]
  },
  {
   "cell_type": "markdown",
   "metadata": {},
   "source": [
    "Method 2 has amortized time complexity of O(1)"
   ]
  },
  {
   "cell_type": "code",
   "execution_count": 6,
   "metadata": {},
   "outputs": [
    {
     "name": "stdout",
     "output_type": "stream",
     "text": [
      "1 \n",
      "1 2 \n",
      "1 2 3 4 5 \n",
      "2 3 4 5 \n",
      "2 3 4 5 9 11 \n",
      "3 4 5 9 11 \n"
     ]
    }
   ],
   "source": [
    "#by making dequeue operation costly\n",
    "class Queue:\n",
    "    def __init__(self):\n",
    "        self.s1=[]\n",
    "        self.s2=[]\n",
    "\n",
    "    def Enqueue(self,data):\n",
    "        self.s1.append(data)\n",
    "\n",
    "    def Dequeue(self):\n",
    "        if len(self.s1)==0 and len(self.s2)==0:\n",
    "            print('Queue is empty')\n",
    "            return\n",
    "        if len(self.s2)==0:\n",
    "            while len(self.s1):\n",
    "                self.s2.append(self.s1.pop())\n",
    "        return self.s2.pop()\n",
    "\n",
    "    def traverse(self):\n",
    "        if len(self.s1)==0 and len(self.s2)==0:\n",
    "            print('Queue empty')\n",
    "            return\n",
    "        top=len(self.s2)-1\n",
    "        while top>=0:\n",
    "            print(self.s2[top],end=\" \")\n",
    "            top-=1\n",
    "        for i in self.s1:\n",
    "            print(i,end=\" \")\n",
    "        print()\n",
    "\n",
    "if __name__ == '__main__':\n",
    "    q=Queue()\n",
    "    q.Enqueue(1)\n",
    "    q.traverse()\n",
    "    q.Enqueue(2)\n",
    "    q.traverse()\n",
    "    q.Enqueue(3)\n",
    "    q.Enqueue(4)\n",
    "    q.Enqueue(5)\n",
    "    q.traverse()\n",
    "    q.Dequeue()\n",
    "    q.traverse()\n",
    "    q.Enqueue(9)\n",
    "    q.Enqueue(11)\n",
    "    q.traverse()\n",
    "    q.Dequeue()\n",
    "    q.traverse()\n"
   ]
  },
  {
   "cell_type": "markdown",
   "metadata": {},
   "source": [
    "Using Function Call Stack"
   ]
  },
  {
   "cell_type": "code",
   "execution_count": 10,
   "metadata": {},
   "outputs": [
    {
     "name": "stdout",
     "output_type": "stream",
     "text": [
      "1 2 3 \n",
      "2 3 \n"
     ]
    }
   ],
   "source": [
    "#using function call stack for approach2\n",
    "class Queue:\n",
    "    def __init__(self):\n",
    "        self.s1=[]\n",
    "\n",
    "    def Enqueue(self,data):\n",
    "        self.s1.append(data)\n",
    "\n",
    "    def Dequeue(self):\n",
    "        if len(self.s1)==0:\n",
    "            print('Queue is empty')\n",
    "            return\n",
    "        if len(self.s1)==1:\n",
    "            return self.s1.pop()\n",
    "        x=self.s1.pop()\n",
    "        res=self.Dequeue()\n",
    "        self.s1.append(x)\n",
    "        return res\n",
    "\n",
    "    def traverse(self):\n",
    "        if len(self.s1)==0:\n",
    "            print('Queue is empty')\n",
    "            return\n",
    "        for i in self.s1:\n",
    "            print(i,end=\" \")\n",
    "        print()\n",
    "\n",
    "if __name__ == '__main__':\n",
    "    q=Queue()\n",
    "    q.Enqueue(1)\n",
    "    q.Enqueue(2)\n",
    "    q.Enqueue(3)\n",
    "    q.traverse()\n",
    "    q.Dequeue()\n",
    "    q.traverse()\n"
   ]
  },
  {
   "cell_type": "markdown",
   "metadata": {},
   "source": [
    "# LRU Cache Implementation"
   ]
  },
  {
   "cell_type": "markdown",
   "metadata": {},
   "source": [
    "We are given total possible page numbers that can be referred. We are also given cache (or memory) size (Number of page frames that cache can hold at a time). The LRU caching scheme is to remove the least recently used frame when the cache is full and a new page is referenced which is not there in cache."
   ]
  },
  {
   "cell_type": "markdown",
   "metadata": {},
   "source": [
    "We use two data structures to implement an LRU Cache.  \n",
    "\n",
    "Queue which is implemented using a doubly linked list. The maximum size of the queue will be equal to the total number of frames available (cache size). The most recently used pages will be near front end and least recently pages will be near the rear end. \n",
    "\n",
    "A Hash with page number as key and address of the corresponding queue node as value."
   ]
  },
  {
   "cell_type": "markdown",
   "metadata": {},
   "source": [
    "When a page is referenced, the required page may be in the memory. If it is in the memory, we need to detach the node of the list and bring it to the front of the queue. \n",
    "If the required page is not in memory, we bring that in memory. In simple words, we add a new node to the front of the queue and update the corresponding node address in the hash. If the queue is full, i.e. all the frames are full, we remove a node from the rear of the queue, and add the new node to the front of the queue."
   ]
  },
  {
   "cell_type": "code",
   "execution_count": 7,
   "metadata": {},
   "outputs": [
    {
     "name": "stdout",
     "output_type": "stream",
     "text": [
      "1 \n",
      "1 2 \n",
      "1 2 3 \n",
      "1 2 3 4 \n",
      "2 3 4 1 \n",
      "3 4 1 2 \n",
      "4 1 2 5 \n",
      "4 2 5 1 \n",
      "4 5 1 2 \n",
      "5 1 2 3 \n",
      "1 2 3 4 \n",
      "2 3 4 5 \n"
     ]
    }
   ],
   "source": [
    "import gc\n",
    "\n",
    "class Node:\n",
    "    def __init__(self,data):\n",
    "        self.data=data\n",
    "        self.next=None\n",
    "        self.prev=None\n",
    "\n",
    "class LRUCache:\n",
    "    def __init__(self,cacheSize):\n",
    "        self.rear=None\n",
    "        self.front=None\n",
    "        self.map={}\n",
    "        self.cacheSize=cacheSize\n",
    "        self.lruSize=0\n",
    "\n",
    "    def insert(self,data):\n",
    "        temp=Node(data)\n",
    "        if self.rear is None:\n",
    "            self.rear=temp\n",
    "            self.front=temp\n",
    "            self.lruSize+=1\n",
    "            return\n",
    "        self.rear.next=temp\n",
    "        temp.prev=self.rear\n",
    "        self.rear=temp\n",
    "        self.lruSize+=1\n",
    "\n",
    "    def deleteHit(self,p_num):\n",
    "        temp=self.front\n",
    "        #present at beginning\n",
    "        if temp.data==p_num:\n",
    "            self.front=self.front.next\n",
    "            if self.front:\n",
    "                self.front.prev=None\n",
    "            else:\n",
    "                self.rear=None\n",
    "            temp=None\n",
    "            self.lruSize-=1\n",
    "            return\n",
    "        while temp:\n",
    "            if temp.data==p_num:\n",
    "                break\n",
    "            temp=temp.next\n",
    "        temp.prev.next=temp.next\n",
    "        if temp.next:\n",
    "            temp.next.prev=temp.prev\n",
    "        else:\n",
    "            self.rear=temp.prev\n",
    "\n",
    "        self.lruSize-=1\n",
    "        temp=None\n",
    "        gc.collect()\n",
    "\n",
    "    def deleteFront(self):\n",
    "        temp=self.front\n",
    "        self.front=self.front.next\n",
    "        if self.front:\n",
    "            self.front.prev=None\n",
    "        else:\n",
    "            self.rear=None\n",
    "        self.lruSize-=1\n",
    "        self.map[temp.data]=False\n",
    "        temp=None\n",
    "        gc.collect()\n",
    "\n",
    "    def referPage(self,p_num):\n",
    "        if p_num in self.map and self.map[p_num]:\n",
    "            self.deleteHit(p_num)\n",
    "            self.insert(p_num)\n",
    "        else:\n",
    "            if self.lruSize==self.cacheSize:\n",
    "                self.deleteFront()\n",
    "            self.insert(p_num)\n",
    "            self.map[p_num]=True\n",
    "\n",
    "    def traverse(self):\n",
    "        if self.front is None:\n",
    "            return\n",
    "        temp=self.front\n",
    "        while temp:\n",
    "            print(temp.data,end=\" \")\n",
    "            temp=temp.next\n",
    "        print()\n",
    "\n",
    "if __name__ == '__main__':\n",
    "    # 1, 2, 3, 4, 1, 2, 5, 1, 2, 3, 4, 5\n",
    "    lru=LRUCache(4)\n",
    "    lru.referPage(1)\n",
    "    lru.traverse()\n",
    "    lru.referPage(2)\n",
    "    lru.traverse()\n",
    "    lru.referPage(3)\n",
    "    lru.traverse()\n",
    "    lru.referPage(4)\n",
    "    lru.traverse()\n",
    "    lru.referPage(1)\n",
    "    lru.traverse()\n",
    "    lru.referPage(2)\n",
    "    lru.traverse()\n",
    "    lru.referPage(5)\n",
    "    lru.traverse()\n",
    "    lru.referPage(1)\n",
    "    lru.traverse()\n",
    "    lru.referPage(2)\n",
    "    lru.traverse()\n",
    "    lru.referPage(3)\n",
    "    lru.traverse()\n",
    "    lru.referPage(4)\n",
    "    lru.traverse()\n",
    "    lru.referPage(5)\n",
    "    lru.traverse()\n"
   ]
  },
  {
   "cell_type": "markdown",
   "metadata": {},
   "source": [
    "# Implement Stack using Queues"
   ]
  },
  {
   "cell_type": "markdown",
   "metadata": {},
   "source": [
    "By making enqueue operation costly"
   ]
  },
  {
   "cell_type": "code",
   "execution_count": 8,
   "metadata": {},
   "outputs": [
    {
     "name": "stdout",
     "output_type": "stream",
     "text": [
      "1 \n"
     ]
    }
   ],
   "source": [
    "#By making enqueue operation costly\n",
    "class Stack:\n",
    "    def __init__(self):\n",
    "        self.q1=[]\n",
    "        self.q2=[]\n",
    "\n",
    "    def push(self,data):\n",
    "        self.q2.append(data)\n",
    "        while self.q1:\n",
    "            self.q2.append(self.q1.pop(0))\n",
    "\n",
    "        self.q1,self.q2=self.q2,self.q1\n",
    "\n",
    "    def pop(self):\n",
    "        if len(self.q1)==0:\n",
    "            print('Stack empty')\n",
    "            return\n",
    "        return self.q1.pop(0)\n",
    "\n",
    "    def traverse(self):\n",
    "        if len(self.q1)==0:\n",
    "            print('Stack is empty')\n",
    "            return\n",
    "        for i in self.q1:\n",
    "            print(i,end=\" \")\n",
    "        print('')\n",
    "\n",
    "if __name__ == '__main__':\n",
    "    stack=Stack()\n",
    "    stack.push(1)\n",
    "    stack.push(2)\n",
    "    stack.pop()\n",
    "    stack.traverse()\n"
   ]
  },
  {
   "cell_type": "markdown",
   "metadata": {},
   "source": [
    "Time Complexity->\n",
    "\n",
    "Enqueue-> O(n)\n",
    "Dequeue-> O(1)\n",
    "\n",
    "Space Complexity O(n)"
   ]
  },
  {
   "cell_type": "markdown",
   "metadata": {},
   "source": [
    "By Making Dequeue Operation Costly"
   ]
  },
  {
   "cell_type": "code",
   "execution_count": 9,
   "metadata": {},
   "outputs": [
    {
     "name": "stdout",
     "output_type": "stream",
     "text": [
      "Stack is empty\n"
     ]
    }
   ],
   "source": [
    "#By making the dequeue operation costly\n",
    "\n",
    "class Stack:\n",
    "    def __init__(self):\n",
    "        self.q1=[]\n",
    "        self.q2=[]\n",
    "\n",
    "    def push(self,data):\n",
    "        self.q1.append(data)\n",
    "\n",
    "    def pop(self):\n",
    "        if len(self.q1)==0:\n",
    "            print('Stack is empty')\n",
    "            return\n",
    "        while len(self.q1)>1:\n",
    "            self.q2.append(self.q1.pop(0))\n",
    "        val=self.q1.pop(0)\n",
    "        self.q1,self.q2=self.q2,self.q1\n",
    "        return val\n",
    "\n",
    "    def traverse(self):\n",
    "        if len(self.q1)==0:\n",
    "            print('Stack is empty')\n",
    "            return\n",
    "        top=len(self.q1)-1\n",
    "        while top>=0:\n",
    "            print(self.q1[top],end=\" \")\n",
    "            top-=1\n",
    "        print()\n",
    "\n",
    "if __name__ == '__main__':\n",
    "    stack=Stack()\n",
    "    stack.push(1)\n",
    "    stack.push(2)\n",
    "    stack.pop()\n",
    "    stack.pop()\n",
    "    stack.traverse()\n"
   ]
  },
  {
   "cell_type": "markdown",
   "metadata": {},
   "source": [
    "# Implement a stack using single queue"
   ]
  },
  {
   "cell_type": "code",
   "execution_count": 1,
   "metadata": {},
   "outputs": [
    {
     "name": "stdout",
     "output_type": "stream",
     "text": [
      "Value Dequeued is 5\n"
     ]
    }
   ],
   "source": [
    "class Stack:\n",
    "    def __init__(self):\n",
    "        self.queue=[]\n",
    "\n",
    "def enqueue(stack,data):\n",
    "    size=len(stack.queue)\n",
    "    stack.queue.append(data)\n",
    "    for i in range(size):\n",
    "        stack.queue.append(stack.queue.pop(0))\n",
    "\n",
    "def dequeue(stack):\n",
    "    if len(stack.queue)==0:\n",
    "        print(\"Stack is empty\")\n",
    "        return\n",
    "    value=stack.queue.pop(0)\n",
    "    print(f\"Value Dequeued is {value}\")\n",
    "\n",
    "if __name__ == '__main__':\n",
    "    stack=Stack()\n",
    "    enqueue(stack,1)\n",
    "    enqueue(stack,2)\n",
    "    enqueue(stack,3)\n",
    "    enqueue(stack,4)\n",
    "    enqueue(stack,5)\n",
    "    dequeue(stack)\n"
   ]
  },
  {
   "cell_type": "markdown",
   "metadata": {},
   "source": [
    "# Priority Queue using Linked List"
   ]
  },
  {
   "cell_type": "markdown",
   "metadata": {},
   "source": [
    "Push an element in sorted order, in that case the highest priority element will always be on the head. Insert in Descending Order"
   ]
  },
  {
   "cell_type": "markdown",
   "metadata": {},
   "source": [
    "# Priority Queue using Doubly Linked List"
   ]
  },
  {
   "cell_type": "markdown",
   "metadata": {},
   "source": [
    "Push an element in sorted order, in that case the highest priority element will always be on the tail. Insert in Ascending Order"
   ]
  },
  {
   "cell_type": "markdown",
   "metadata": {},
   "source": [
    "# Implementation of Deque using doubly linked list"
   ]
  },
  {
   "cell_type": "code",
   "execution_count": 3,
   "metadata": {},
   "outputs": [
    {
     "name": "stdout",
     "output_type": "stream",
     "text": [
      "1  \n",
      "4 3 2 1 5  \n",
      "Dequeue empty\n",
      "None\n",
      "None\n"
     ]
    }
   ],
   "source": [
    "import gc\n",
    "class Node:\n",
    "    def __init__(self,data):\n",
    "        self.data=data\n",
    "        self.next=None\n",
    "        self.prev=None\n",
    "\n",
    "class Dequeue:\n",
    "    def __init__(self):\n",
    "        self.head=None\n",
    "        self.rear=None\n",
    "\n",
    "    def insertAtFront(self,data):\n",
    "        temp=Node(data)\n",
    "        if self.head is None:\n",
    "            self.head=temp\n",
    "            self.rear=temp\n",
    "            return\n",
    "        temp.next=self.head\n",
    "        self.head.prev=temp\n",
    "        self.head=temp\n",
    "\n",
    "    def insertAtRear(self,data):\n",
    "        temp=Node(data)\n",
    "        if self.head is None:\n",
    "            self.head=temp\n",
    "            self.rear=temp\n",
    "            return\n",
    "        self.rear.next=temp\n",
    "        temp.prev=self.rear\n",
    "        self.rear=temp\n",
    "\n",
    "    def deleteAtFront(self):\n",
    "        if self.head is None:\n",
    "            print('Dequeue empty')\n",
    "            return\n",
    "        temp=self.head\n",
    "        self.head=self.head.next\n",
    "        if self.head is None:\n",
    "            self.rear=None\n",
    "        else:\n",
    "            self.head.prev=None\n",
    "        temp=None\n",
    "        gc.collect()\n",
    "\n",
    "    def deleteAtRear(self):\n",
    "        if self.head is None:\n",
    "            print('Dequeue is empty')\n",
    "            return\n",
    "        temp=self.rear\n",
    "        if self.rear.prev:\n",
    "            self.rear=self.rear.prev\n",
    "            self.rear.next=None\n",
    "        else:\n",
    "            self.rear=None\n",
    "            self.head=None\n",
    "        temp=None\n",
    "        gc.collect()\n",
    "\n",
    "    def traverse(self):\n",
    "        if self.head is None:\n",
    "            return\n",
    "        temp=self.head\n",
    "        while temp:\n",
    "            print(temp.data,end=\" \")\n",
    "            temp=temp.next\n",
    "        print(' ')\n",
    "if __name__ == '__main__':\n",
    "    dq=Dequeue()\n",
    "    dq.insertAtRear(1)\n",
    "    dq.traverse()\n",
    "    dq.insertAtFront(2)\n",
    "    dq.insertAtFront(3)\n",
    "    dq.insertAtFront(4)\n",
    "    dq.insertAtRear(5)\n",
    "    dq.traverse()\n",
    "    dq.deleteAtFront()\n",
    "    dq.deleteAtFront()\n",
    "    dq.deleteAtFront()\n",
    "    dq.deleteAtFront()\n",
    "    dq.deleteAtFront()\n",
    "    dq.deleteAtFront()\n",
    "    print(dq.head)\n",
    "    print(dq.rear)\n",
    "    dq.traverse()\n"
   ]
  },
  {
   "cell_type": "markdown",
   "metadata": {},
   "source": [
    "<h1><center>Standard Problems</center></h1>"
   ]
  },
  {
   "cell_type": "markdown",
   "metadata": {},
   "source": [
    "# Check if a queue can be sorted into another queue using a stack"
   ]
  },
  {
   "cell_type": "markdown",
   "metadata": {},
   "source": [
    "Observe, second Queue (which will contain the sorted element) takes inputs (or enqueue elements) either from given Queue or Stack. So, next expected (which will initially be 1) element must be present as a front element of given Queue or top element of the Stack. So, simply simulate the process for the second Queue by initializing the expected element as 1. And check if we can get expected element from the front of the given Queue or from the top of the Stack. If we cannot take it from the either of them then pop the front element of given Queue and push it in the Stack.\n",
    "Also, observe, that the stack must also be sorted at each instance i.e the element at the top of the stack must be smallest in the stack. For eg. let x > y, then x will always be expected before y. So, x cannot be pushed before y in the stack. Therefore, we cannot push element with the higher value on the top of the element having lesser value."
   ]
  },
  {
   "cell_type": "code",
   "execution_count": 1,
   "metadata": {},
   "outputs": [
    {
     "name": "stdout",
     "output_type": "stream",
     "text": [
      "True\n",
      "False\n"
     ]
    }
   ],
   "source": [
    "def canSorted(queue):\n",
    "    n=len(arr)\n",
    "    stack=[]\n",
    "    expected=1\n",
    "    while queue:\n",
    "        value=queue.pop(0)\n",
    "        if expected==value:\n",
    "            expected+=1\n",
    "        else:\n",
    "            if len(stack)==0:\n",
    "                stack.append(value)\n",
    "            elif stack[-1]<value:\n",
    "                return False\n",
    "            else:\n",
    "                stack.append(value)\n",
    "        while stack and stack[-1]==expected:\n",
    "            stack.pop()\n",
    "            expected+=1\n",
    "    if expected-1==n and len(stack)==0:\n",
    "        return True\n",
    "    return False\n",
    "\n",
    "if __name__ == '__main__':\n",
    "    arr=[5, 1, 2, 3, 4]\n",
    "    print(canSorted(arr))\n",
    "    arr=[ 5, 1, 2, 6, 3, 4]\n",
    "    print(canSorted(arr))\n"
   ]
  },
  {
   "cell_type": "markdown",
   "metadata": {},
   "source": [
    "# Breadth First Search or BFS for a Graph"
   ]
  },
  {
   "cell_type": "markdown",
   "metadata": {},
   "source": [
    "done"
   ]
  },
  {
   "cell_type": "markdown",
   "metadata": {},
   "source": [
    "# Level Order Binary Tree Traversal"
   ]
  },
  {
   "cell_type": "markdown",
   "metadata": {},
   "source": [
    "done"
   ]
  },
  {
   "cell_type": "markdown",
   "metadata": {},
   "source": [
    "# Reverse a path in BST using queue"
   ]
  },
  {
   "cell_type": "markdown",
   "metadata": {},
   "source": [
    "Traverse path from root to the key and store it in a queue. Since this is a BST, we know where we can find the element that is in leftsub tree or right subtree, and then recurse back changing the values"
   ]
  },
  {
   "cell_type": "code",
   "execution_count": 2,
   "metadata": {},
   "outputs": [
    {
     "name": "stdout",
     "output_type": "stream",
     "text": [
      "1 3 4 6 7 8 10 13 14 \n",
      "1 3 4 6 7 13 14 8 10 "
     ]
    }
   ],
   "source": [
    "class Node:\n",
    "    def __init__(self,data):\n",
    "        self.data=data\n",
    "        self.left=None\n",
    "        self.right=None\n",
    "\n",
    "def reversePath(root,key):\n",
    "    queue=[]\n",
    "    reversePathUtil(root,key,queue)\n",
    "\n",
    "def reversePathUtil(root,key,queue):\n",
    "    if root is None:\n",
    "        return\n",
    "    if root.data==key:\n",
    "        queue.append(root.data)\n",
    "        root.data=queue.pop(0)\n",
    "        return\n",
    "    elif key<root.data:\n",
    "        queue.append(root.data)\n",
    "        reversePathUtil(root.left, key, queue)\n",
    "        root.data=queue.pop(0)\n",
    "        return\n",
    "    else:\n",
    "        queue.append(root.data)\n",
    "        reversePathUtil(root.right,key,queue)\n",
    "        root.data=queue.pop(0)\n",
    "        return\n",
    "\n",
    "def inorder(root):\n",
    "    if root is None:\n",
    "        return\n",
    "    inorder(root.left)\n",
    "    print(root.data,end=\" \")\n",
    "    inorder(root.right)\n",
    "\n",
    "if __name__ == '__main__':\n",
    "    # root=Node(50)\n",
    "    # root.left=Node(30)\n",
    "    # root.right=Node(70)\n",
    "    # root.left.left=Node(20)\n",
    "    # root.left.right=Node(40)\n",
    "    # root.right.left=Node(60)\n",
    "    # root.right.right=Node(80)\n",
    "    # inorder(root)\n",
    "    # print()\n",
    "    # reversePath(root, 70)\n",
    "    # inorder(root)\n",
    "    root=Node(8)\n",
    "    root.left=Node(3)\n",
    "    root.right=Node(10)\n",
    "    root.left.left=Node(1)\n",
    "    root.left.right=Node(6)\n",
    "    root.left.right.left=Node(4)\n",
    "    root.left.right.right=Node(7)\n",
    "    root.right.right=Node(14)\n",
    "    root.right.right.left=Node(13)\n",
    "    inorder(root)\n",
    "    print()\n",
    "    reversePath(root,13)\n",
    "    inorder(root)\n"
   ]
  },
  {
   "cell_type": "markdown",
   "metadata": {},
   "source": [
    "# Construct Complete Binary Tree from its Linked List Representation"
   ]
  },
  {
   "cell_type": "markdown",
   "metadata": {},
   "source": [
    "done"
   ]
  },
  {
   "cell_type": "markdown",
   "metadata": {},
   "source": [
    "# Program for Page Replacement Algorithms | Set 2 (FIFO)"
   ]
  },
  {
   "cell_type": "code",
   "execution_count": 3,
   "metadata": {},
   "outputs": [
    {
     "name": "stdout",
     "output_type": "stream",
     "text": [
      "7\n"
     ]
    }
   ],
   "source": [
    "class FIFO:\n",
    "    def __init__(self,size):\n",
    "        self.queue=[]\n",
    "        self.size=size\n",
    "        self.map={}\n",
    "\n",
    "    def referPage(self,arr):\n",
    "        pageFaults=0\n",
    "        for i in arr:\n",
    "            if i in self.map and self.map[i]:\n",
    "                continue\n",
    "            else:\n",
    "                pageFaults+=1\n",
    "                if len(self.queue)==self.size:\n",
    "                    x=self.queue.pop(0)\n",
    "                    self.map[x]=False\n",
    "                    self.queue.append(i)\n",
    "                else:\n",
    "                    self.queue.append(i)\n",
    "                self.map[i]=True\n",
    "        return pageFaults\n",
    "\n",
    "if __name__ == '__main__':\n",
    "    # fifo=FIFO(3)\n",
    "    # arr=[1, 3, 0, 3, 5, 6]\n",
    "    fifo=FIFO(4)\n",
    "    arr=[7, 0, 1, 2, 0, 3, 0, 4, 2, 3, 0, 3, 2]\n",
    "    pageFaults=fifo.referPage(arr)\n",
    "    print(pageFaults)\n"
   ]
  },
  {
   "cell_type": "markdown",
   "metadata": {},
   "source": [
    "# Check whether a given Binary Tree is Complete or not"
   ]
  },
  {
   "cell_type": "markdown",
   "metadata": {},
   "source": [
    "Using Level Order Traversals"
   ]
  },
  {
   "cell_type": "markdown",
   "metadata": {},
   "source": [
    "# Number of siblings of a given Node in n-ary Tree"
   ]
  },
  {
   "cell_type": "code",
   "execution_count": 4,
   "metadata": {},
   "outputs": [
    {
     "name": "stdout",
     "output_type": "stream",
     "text": [
      "1\n"
     ]
    }
   ],
   "source": [
    "class Node:\n",
    "    def __init__(self,data):\n",
    "        self.child=[]\n",
    "        self.data=data\n",
    "\n",
    "def findSiblings(root,key):\n",
    "    if root.data==key:\n",
    "        return 0\n",
    "    queue=[]\n",
    "    queue.append(root)\n",
    "    while queue:\n",
    "        parent=queue.pop(0)\n",
    "        for i in range(len(parent.child)):\n",
    "            if parent.child[i].data==key:\n",
    "                return len(parent.child)-1\n",
    "            queue.append(parent.child[i])\n",
    "\n",
    "\n",
    "\n",
    "if __name__ == '__main__':\n",
    "    root = Node(50)\n",
    "    root.child.append(Node(2))\n",
    "    root.child.append(Node(30))\n",
    "    root.child.append(Node(14))\n",
    "    root.child.append(Node(60))\n",
    "    root.child[0].child.append(Node(15))\n",
    "    root.child[0].child.append(Node(25))\n",
    "    root.child[0].child[1].child.append(Node(70))\n",
    "    root.child[0].child[1].child.append(Node(100))\n",
    "    root.child[1].child.append(Node(6))\n",
    "    root.child[1].child.append(Node(1))\n",
    "    root.child[2].child.append(Node(7))\n",
    "    root.child[2].child[0].child.append(Node(17))\n",
    "    root.child[2].child[0].child.append(Node(99))\n",
    "    root.child[2].child[0].child.append(Node(27))\n",
    "    root.child[3].child.append(Node(16))\n",
    "    print(findSiblings(root,100))\n"
   ]
  },
  {
   "cell_type": "markdown",
   "metadata": {},
   "source": [
    "# ZigZag Tree Traversal"
   ]
  },
  {
   "cell_type": "markdown",
   "metadata": {},
   "source": [
    "2 queues approach"
   ]
  },
  {
   "cell_type": "code",
   "execution_count": 5,
   "metadata": {},
   "outputs": [
    {
     "name": "stdout",
     "output_type": "stream",
     "text": [
      "1 3 2 4 5 6 7 "
     ]
    }
   ],
   "source": [
    "class Node:\n",
    "    def __init__(self,data):\n",
    "        self.data=data\n",
    "        self.left=None\n",
    "        self.right=None\n",
    "\n",
    "def zigZagTravseral(root):\n",
    "    if root is None:\n",
    "        return\n",
    "    queue1=[]\n",
    "    queue2=[]\n",
    "    queue1.append(root)\n",
    "    rightToLeft=False\n",
    "    size=None\n",
    "    while queue1:\n",
    "        size=len(queue1)\n",
    "        for i in range(size):\n",
    "            element=queue1.pop(0)\n",
    "            if element.left:\n",
    "                queue1.append(element.left)\n",
    "            if element.right:\n",
    "                queue1.append(element.right)\n",
    "            if rightToLeft is False:\n",
    "                print(element.data,end=\" \")\n",
    "            else:\n",
    "                queue2.append(element)\n",
    "        if rightToLeft:\n",
    "            while queue2:\n",
    "                print(queue2.pop().data,end=\" \")\n",
    "        rightToLeft=not rightToLeft\n",
    "\n",
    "\n",
    "if __name__ == '__main__':\n",
    "    root=Node(1)\n",
    "    root.left=Node(2)\n",
    "    root.right=Node(3)\n",
    "    root.left.left=Node(4)\n",
    "    root.left.right=Node(5)\n",
    "    root.right.left=Node(6)\n",
    "    root.right.right=Node(7)\n",
    "    zigZagTravseral(root)\n"
   ]
  },
  {
   "cell_type": "markdown",
   "metadata": {},
   "source": [
    "Time Complexity O(n)"
   ]
  },
  {
   "cell_type": "markdown",
   "metadata": {},
   "source": [
    "<h1><center>Operations on Queue</center></h1>"
   ]
  },
  {
   "cell_type": "markdown",
   "metadata": {},
   "source": [
    "# Reversing a Queue"
   ]
  },
  {
   "cell_type": "code",
   "execution_count": 6,
   "metadata": {},
   "outputs": [
    {
     "name": "stdout",
     "output_type": "stream",
     "text": [
      "[10, 20, 30, 40, 50, 60, 70, 80, 90, 100]\n",
      "\n",
      "[100, 90, 80, 70, 60, 50, 40, 30, 20, 10]\n"
     ]
    }
   ],
   "source": [
    "def enqueue(queue,data):\n",
    "    queue.append(data)\n",
    "\n",
    "def dequeue(queue):\n",
    "    if len(queue)==0:\n",
    "        return\n",
    "    return queue.pop(0)\n",
    "\n",
    "def reverseQueue(q):\n",
    "    if len(q)==0:\n",
    "        return\n",
    "    x=dequeue(q)\n",
    "    reverseQueue(q)\n",
    "    enqueue(q,x)\n",
    "\n",
    "\n",
    "if __name__ == '__main__':\n",
    "    # q=[1,2,3,4,5]\n",
    "    q=[10, 20, 30, 40, 50, 60, 70, 80, 90, 100]\n",
    "    print(q)\n",
    "    print()\n",
    "    reverseQueue(q)\n",
    "    print(q)\n"
   ]
  },
  {
   "cell_type": "markdown",
   "metadata": {},
   "source": [
    "Time Complexity O(n)"
   ]
  },
  {
   "cell_type": "markdown",
   "metadata": {},
   "source": [
    "# Reversing the first K elements of a Queue"
   ]
  },
  {
   "cell_type": "markdown",
   "metadata": {},
   "source": [
    "The idea is to use an auxiliary stack. \n",
    "\n",
    "Create an empty stack.\n",
    "\n",
    "One by one dequeue first K items from given queue and push the dequeued items to stack.\n",
    "\n",
    "Enqueue the contents of stack at the back of the queue\n",
    "\n",
    "Dequeue (size-k) elements from the front and enque them one by one to the same queue. "
   ]
  },
  {
   "cell_type": "code",
   "execution_count": 7,
   "metadata": {},
   "outputs": [
    {
     "name": "stdout",
     "output_type": "stream",
     "text": [
      "[5, 4, 3, 2, 1, 6, 7, 8, 9, 10]\n"
     ]
    }
   ],
   "source": [
    "def enqueue(queue,data):\n",
    "    queue.append(data)\n",
    "\n",
    "def dequeue(queue):\n",
    "    if len(queue)==0:\n",
    "        return\n",
    "    return queue.pop(0)\n",
    "\n",
    "\n",
    "def reverseKQueue(queue,k):\n",
    "    n=len(queue)\n",
    "    if len(queue)==0:\n",
    "        return\n",
    "    stack=[]\n",
    "    for i in range(k):\n",
    "        stack.append(dequeue(queue))\n",
    "    while stack:\n",
    "        enqueue(queue,stack.pop())\n",
    "    for i in range(n-k):\n",
    "        enqueue(queue,dequeue(queue))\n",
    "\n",
    "\n",
    "if __name__ == '__main__':\n",
    "    q=[1,2,3,4,5,6,7,8,9,10]\n",
    "    reverseKQueue(q,5)\n",
    "    print(q)\n"
   ]
  },
  {
   "cell_type": "markdown",
   "metadata": {},
   "source": [
    "# Interleave the first half of the queue with second half"
   ]
  },
  {
   "cell_type": "code",
   "execution_count": 8,
   "metadata": {},
   "outputs": [
    {
     "name": "stdout",
     "output_type": "stream",
     "text": [
      "[11, 16, 12, 17, 13, 18, 14, 19, 15, 20]\n"
     ]
    }
   ],
   "source": [
    "def enqueue(queue,data):\n",
    "    queue.append(data)\n",
    "\n",
    "def dequeue(queue):\n",
    "    if len(queue)==0:\n",
    "        return\n",
    "    return queue.pop(0)\n",
    "\n",
    "def interleaveQueueUtil(queue,stack):\n",
    "    if len(queue)==0:\n",
    "        return\n",
    "    x=dequeue(queue)\n",
    "    interleaveQueueUtil(queue,stack)\n",
    "    enqueue(queue, x)\n",
    "    enqueue(queue,stack.pop())\n",
    "\n",
    "def interleaveQueue(queue):\n",
    "    stack=[]\n",
    "    n=len(queue)\n",
    "    for i in range(n//2):\n",
    "        stack.append(dequeue(queue))\n",
    "    interleaveQueueUtil(queue,stack)\n",
    "    reverseQueue(queue)\n",
    "\n",
    "def reverseQueue(queue):\n",
    "    if len(queue)==0:\n",
    "        return\n",
    "    x=dequeue(queue)\n",
    "    reverseQueue(queue)\n",
    "    enqueue(queue,x)\n",
    "\n",
    "if __name__ == '__main__':\n",
    "    queue=[11,12,13,14,15,16,17,18,19,20]\n",
    "    # queue=[1,2,3,4]\n",
    "    interleaveQueue(queue)\n",
    "    print(queue)\n"
   ]
  },
  {
   "cell_type": "markdown",
   "metadata": {},
   "source": [
    "# Sorting a Queue "
   ]
  },
  {
   "cell_type": "markdown",
   "metadata": {},
   "source": [
    "TODO"
   ]
  },
  {
   "cell_type": "markdown",
   "metadata": {},
   "source": [
    "<h1><center>Miscellaneous</center></h1>"
   ]
  },
  {
   "cell_type": "markdown",
   "metadata": {},
   "source": [
    "# Level order traversal in spiral form"
   ]
  },
  {
   "cell_type": "code",
   "execution_count": 1,
   "metadata": {},
   "outputs": [
    {
     "name": "stdout",
     "output_type": "stream",
     "text": [
      "1 2 3 4 5 6 7 "
     ]
    }
   ],
   "source": [
    "class Node:\n",
    "    def __init__(self,data):\n",
    "        self.data=data\n",
    "        self.left=None\n",
    "        self.right=None\n",
    "\n",
    "\n",
    "def LOTSpiral(root):\n",
    "    if root is None:\n",
    "        return\n",
    "    queue1=[]\n",
    "    queue2=[]\n",
    "    queue1.append(root)\n",
    "    rightToLeft=True\n",
    "    size=None\n",
    "    while queue1:\n",
    "        size=len(queue1)\n",
    "        for _ in range(size):\n",
    "            element=queue1.pop(0)\n",
    "            if element.left:\n",
    "                queue1.append(element.left)\n",
    "            if element.right:\n",
    "                queue1.append(element.right)\n",
    "            if rightToLeft:\n",
    "                queue2.append(element)\n",
    "            else:\n",
    "                print(element.data,end=\" \")\n",
    "        if rightToLeft:\n",
    "            while queue2:\n",
    "                print(queue2.pop().data,end=\" \")\n",
    "        rightToLeft=not rightToLeft\n",
    "\n",
    "if __name__ == '__main__':\n",
    "    root=Node(1)\n",
    "    root.left=Node(2)\n",
    "    root.right=Node(3)\n",
    "    root.left.left=Node(7)\n",
    "    root.left.right=Node(6)\n",
    "    root.right.left=Node(5)\n",
    "    root.right.right=Node(4)\n",
    "    LOTSpiral(root)\n"
   ]
  },
  {
   "cell_type": "markdown",
   "metadata": {},
   "source": [
    "Time Complexity O(n)"
   ]
  },
  {
   "cell_type": "markdown",
   "metadata": {},
   "source": [
    "# Sliding Window Maximum (Maximum of all subarrays of size k)"
   ]
  },
  {
   "cell_type": "markdown",
   "metadata": {},
   "source": [
    "Given an array and an integer K, find the maximum for each and every contiguous subarray of size k."
   ]
  },
  {
   "cell_type": "markdown",
   "metadata": {},
   "source": [
    "Approach 1-> 2 loops"
   ]
  },
  {
   "cell_type": "markdown",
   "metadata": {},
   "source": [
    "Approach 2-> Using max heap"
   ]
  },
  {
   "cell_type": "markdown",
   "metadata": {},
   "source": [
    "Approach 3->Using Dequeue"
   ]
  },
  {
   "cell_type": "markdown",
   "metadata": {},
   "source": [
    "Create a Deque, Qi of capacity k, that stores only useful elements of current window of k elements. An element is useful if it is in current window and is greater than all other elements on right side of it in current window. Process all array elements one by one and maintain Qi to contain useful elements of current window and these useful elements are maintained in sorted order. The element at front of the Qi is the largest and element at rear/back of Qi is the smallest of current window. "
   ]
  },
  {
   "cell_type": "code",
   "execution_count": 3,
   "metadata": {},
   "outputs": [
    {
     "name": "stdout",
     "output_type": "stream",
     "text": [
      "The max of 1,2,3 is 3\n",
      "The max of 2,3,1 is 3\n",
      "The max of 3,1,4 is 4\n",
      "The max of 1,4,5 is 5\n",
      "The max of 4,5,2 is 5\n",
      "The max of 5,2,3 is 5\n",
      "The max of 2,3,6 is 6\n"
     ]
    }
   ],
   "source": [
    "from collections import deque\n",
    "\n",
    "def getMaxOfKSubarray(arr,k):\n",
    "    q=deque()\n",
    "    n=len(arr)\n",
    "    # first create a deque of k elements\n",
    "    for i in range(k):\n",
    "        # if current element is greater than the value at the rear then pop from rear as we dont want the smaller elements\n",
    "        while q and arr[q[-1]]<=arr[i]:\n",
    "            q.pop()\n",
    "        q.append(i)\n",
    "\n",
    "    for i in range(k,n):\n",
    "\n",
    "        print(f\"The max of {arr[i-3]},{arr[i-2]},{arr[i-1]} is {arr[q[0]]}\")\n",
    "        while q and q[0]<=i-k:\n",
    "            # remove the elements which are out of window\n",
    "            q.popleft()\n",
    "        while q and arr[q[-1]]<=arr[i]:\n",
    "            # if current element is greater than the value at the rear then pop from rear as we dont want the smaller elements\n",
    "            q.pop()\n",
    "        q.append(i)\n",
    "    # print the maximum of last window\n",
    "    print(f\"The max of {arr[-3]},{arr[-2]},{arr[-1]} is {arr[q[0]]}\")\n",
    "\n",
    "if __name__ == '__main__':\n",
    "    arr=[1, 2, 3, 1, 4, 5, 2, 3, 6]\n",
    "#     arr=[12, 1, 78, 90, 57, 89, 56]\n",
    "    k=3\n",
    "    getMaxOfKSubarray(arr,k)\n"
   ]
  },
  {
   "cell_type": "markdown",
   "metadata": {},
   "source": [
    "Time Complexity O(n)"
   ]
  },
  {
   "cell_type": "markdown",
   "metadata": {},
   "source": [
    "# Find the first circular tour that visits all petrol pumps"
   ]
  },
  {
   "cell_type": "markdown",
   "metadata": {},
   "source": [
    "Suppose there is a circle. There are n petrol pumps on that circle. You are given two sets of data.\n",
    "The amount of petrol that every petrol pump has.\n",
    "\n",
    "Distance from that petrol pump to the next petrol pump.\n",
    "\n",
    "Calculate the first point from where a truck will be able to complete the circle (The truck will stop at each petrol pump and it has infinite capacity). "
   ]
  },
  {
   "cell_type": "code",
   "execution_count": 1,
   "metadata": {},
   "outputs": [
    {
     "name": "stdout",
     "output_type": "stream",
     "text": [
      "1\n",
      "2\n"
     ]
    }
   ],
   "source": [
    "def getStartingPoint(arr):\n",
    "    start=0\n",
    "    s=0\n",
    "    d=0\n",
    "    for i in range(len(arr)):\n",
    "        s+=arr[i][0]-arr[i][1]\n",
    "        if s<0:\n",
    "            d+=s\n",
    "            s=0\n",
    "            start=i+1\n",
    "    return start if (s+d)>=0 else \"Not Possible\"\n",
    "\n",
    "if __name__ == '__main__':\n",
    "    arr=[[4,6],[6,5],[7,3],[4,5]]\n",
    "    print(getStartingPoint(arr))\n",
    "    arr=[[6,4], [3,6], [7,3]]\n",
    "    print(getStartingPoint(arr))\n"
   ]
  },
  {
   "cell_type": "markdown",
   "metadata": {},
   "source": [
    "Time Complexity O(n)"
   ]
  },
  {
   "cell_type": "markdown",
   "metadata": {},
   "source": [
    "# Smallest multiple of a given number made of digits 0 and 9 only"
   ]
  },
  {
   "cell_type": "markdown",
   "metadata": {},
   "source": [
    "We are given an integer N. We need to write a program to find the least positive integer X made up of only digits 9’s and 0’s, such that, X is a multiple of N."
   ]
  },
  {
   "cell_type": "code",
   "execution_count": 2,
   "metadata": {},
   "outputs": [
    {
     "name": "stdout",
     "output_type": "stream",
     "text": [
      "Checking for 9\n",
      "Checking for 90\n",
      "Checking for 99\n",
      "Checking for 900\n",
      "Checking for 909\n",
      "Checking for 990\n",
      "Checking for 999\n",
      "Checking for 9000\n",
      "Checking for 9009\n",
      "\n",
      "The Smallest Multiple of 7 is 9009\n"
     ]
    }
   ],
   "source": [
    "def findSmallestMultiple(n):\n",
    "    queue=[]\n",
    "    queue.append(9)\n",
    "    while queue:\n",
    "        element=queue.pop(0)\n",
    "        print(f\"Checking for {element}\")\n",
    "        if element%n==0:\n",
    "            return element\n",
    "        queue.append(element*10)\n",
    "        queue.append(element*10+9)\n",
    "\n",
    "\n",
    "if __name__ == '__main__':\n",
    "    n=7\n",
    "    result=findSmallestMultiple(n)\n",
    "    print()\n",
    "    print(f\"The Smallest Multiple of {n} is {result}\")\n"
   ]
  },
  {
   "cell_type": "markdown",
   "metadata": {},
   "source": [
    "Approach -> BFS"
   ]
  },
  {
   "cell_type": "markdown",
   "metadata": {},
   "source": [
    "Time Complexity O(n)"
   ]
  },
  {
   "cell_type": "markdown",
   "metadata": {},
   "source": [
    "# Iterative Method to find Height of Binary Tree"
   ]
  },
  {
   "cell_type": "markdown",
   "metadata": {},
   "source": [
    "Using level order traversals"
   ]
  },
  {
   "cell_type": "code",
   "execution_count": 3,
   "metadata": {},
   "outputs": [
    {
     "name": "stdout",
     "output_type": "stream",
     "text": [
      "3\n"
     ]
    }
   ],
   "source": [
    "class Node:\n",
    "    def __init__(self,data):\n",
    "        self.data=data\n",
    "        self.left=None\n",
    "        self.right=None\n",
    "        self.level=0\n",
    "\n",
    "def findHeight(root):\n",
    "    queue=[]\n",
    "    queue.append(root)\n",
    "    height=float('-infinity')\n",
    "    root.level=1\n",
    "    while queue:\n",
    "        parent=queue.pop(0)\n",
    "        height=max(parent.level,height)\n",
    "        if parent.left:\n",
    "            parent.left.level+=parent.level+1\n",
    "            queue.append(parent.left)\n",
    "        if parent.right:\n",
    "            parent.right.level+=parent.level+1\n",
    "            queue.append(parent.right)\n",
    "    return height\n",
    "\n",
    "if __name__ == '__main__':\n",
    "    root=Node(1)\n",
    "    root.left=Node(2)\n",
    "    root.right=Node(3)\n",
    "    root.left.left=Node(4)\n",
    "    root.left.right=Node(5)\n",
    "    print(findHeight(root))\n"
   ]
  },
  {
   "cell_type": "markdown",
   "metadata": {},
   "source": [
    "**Without modifying the node structure**"
   ]
  },
  {
   "cell_type": "code",
   "execution_count": 4,
   "metadata": {},
   "outputs": [
    {
     "name": "stdout",
     "output_type": "stream",
     "text": [
      "3\n"
     ]
    }
   ],
   "source": [
    "class Node:\n",
    "    def __init__(self,data):\n",
    "        self.data=data\n",
    "        self.left=None\n",
    "        self.right=None\n",
    "\n",
    "def findHeight(root):\n",
    "    queue=[]\n",
    "    queue.append(root)\n",
    "    height=0\n",
    "    while queue:\n",
    "        size=len(queue)\n",
    "        height+=1\n",
    "        for i in range(size):\n",
    "            parent=queue.pop(0)\n",
    "            if parent.left:\n",
    "                queue.append(parent.left)\n",
    "            if parent.right:\n",
    "                queue.append(parent.right)\n",
    "    return height\n",
    "\n",
    "if __name__ == '__main__':\n",
    "    root=Node(1)\n",
    "    root.left=Node(2)\n",
    "    root.right=Node(3)\n",
    "    root.left.left=Node(4)\n",
    "    root.left.right=Node(5)\n",
    "    print(findHeight(root))\n"
   ]
  },
  {
   "cell_type": "markdown",
   "metadata": {},
   "source": [
    "# An Interesting Method to Generate Binary Numbers from 1 to n"
   ]
  },
  {
   "cell_type": "markdown",
   "metadata": {},
   "source": [
    "BFS Method"
   ]
  },
  {
   "cell_type": "code",
   "execution_count": 5,
   "metadata": {},
   "outputs": [
    {
     "name": "stdout",
     "output_type": "stream",
     "text": [
      "1\n",
      "10\n",
      "11\n",
      "100\n",
      "101\n",
      "110\n",
      "111\n",
      "1000\n",
      "1001\n",
      "1010\n"
     ]
    }
   ],
   "source": [
    "def generateBinaryNumbers(n):\n",
    "    queue=[]\n",
    "    queue.append(\"1\")\n",
    "    while n>0:\n",
    "        n-=1\n",
    "        element=queue.pop(0)\n",
    "        print(element)\n",
    "        queue.append(element+'0')\n",
    "        queue.append(element+'1')\n",
    "\n",
    "if __name__ == '__main__':\n",
    "    n=10\n",
    "    generateBinaryNumbers(n)\n"
   ]
  },
  {
   "cell_type": "markdown",
   "metadata": {},
   "source": [
    "# Minimum time required to rot all oranges"
   ]
  },
  {
   "cell_type": "markdown",
   "metadata": {},
   "source": [
    "Approach -> BFS "
   ]
  },
  {
   "cell_type": "code",
   "execution_count": 10,
   "metadata": {},
   "outputs": [
    {
     "name": "stdout",
     "output_type": "stream",
     "text": [
      "2\n",
      "Not Possible\n"
     ]
    }
   ],
   "source": [
    "class Node:\n",
    "    def __init__(self,data):\n",
    "        self.data=data\n",
    "        self.time=0\n",
    "\n",
    "def getMinTimeToRotOranges(arr):\n",
    "    n=len(arr)\n",
    "    m=len(arr[0])\n",
    "    queue=[]\n",
    "    orangesArr=[[Node(arr[i][j])for j in range(m)] for i in range(n)]\n",
    "    # visited=[[False for j in range(m)]for i in range(n)]\n",
    "    for i in range(n):\n",
    "        for j in range(m):\n",
    "            if orangesArr[i][j].data==2:\n",
    "                queue.append((i,j))\n",
    "    time=0\n",
    "    x=[-1,1,0,0]\n",
    "    y=[0,0,-1,1]\n",
    "    # print(queue)\n",
    "    while queue:\n",
    "        element=queue.pop(0)\n",
    "        for i in range(4):\n",
    "            if isSafe(element[0]+x[i],element[1]+y[i],n,m,orangesArr):\n",
    "                orangesArr[element[0]+x[i]][element[1]+y[i]].data=2\n",
    "                orangesArr[element[0]+x[i]][element[1]+y[i]].time=orangesArr[element[0]][element[1]].time+1\n",
    "                queue.append((element[0]+x[i],element[1]+y[i]))\n",
    "                time=max(time,orangesArr[element[0]+x[i]][element[1]+y[i]].time)\n",
    "    for i in range(n):\n",
    "        for j in range(m):\n",
    "            if orangesArr[i][j].data==1:\n",
    "                return \"Not Possible\"\n",
    "    return time\n",
    "\n",
    "def isSafe(i,j,n,m,orangesArr):\n",
    "    if i>=0 and i<n and j>=0 and j<m and orangesArr[i][j].data==1:\n",
    "        return True\n",
    "\n",
    "if __name__ == '__main__':\n",
    "    arr=[[2, 1, 0, 2, 1],[1, 0, 1, 2, 1],[1, 0, 0, 2, 1]]\n",
    "    print(getMinTimeToRotOranges(arr))\n",
    "    arr=[[2, 1, 0, 2, 1],[0, 0, 1, 2, 1],[1, 0, 0, 2, 1]]\n",
    "    print(getMinTimeToRotOranges(arr))\n"
   ]
  },
  {
   "cell_type": "markdown",
   "metadata": {},
   "source": [
    "Time Complexity O(n*m)"
   ]
  },
  {
   "cell_type": "markdown",
   "metadata": {},
   "source": [
    "Space Complexity O(n*m)"
   ]
  },
  {
   "cell_type": "markdown",
   "metadata": {},
   "source": [
    "# Find maximum level sum in Binary Tree"
   ]
  },
  {
   "cell_type": "code",
   "execution_count": 8,
   "metadata": {},
   "outputs": [
    {
     "name": "stdout",
     "output_type": "stream",
     "text": [
      "6\n",
      "\n",
      "17\n"
     ]
    }
   ],
   "source": [
    "class Node:\n",
    "    def __init__(self,data):\n",
    "        self.data=data\n",
    "        self.left=None\n",
    "        self.right=None\n",
    "\n",
    "def getMaxLevelSum(root):\n",
    "    if root is None:\n",
    "        return 0\n",
    "    queue=[]\n",
    "    queue.append(root)\n",
    "    maxSum=float('-infinity')\n",
    "    while queue:\n",
    "        currentSum=0\n",
    "        size=len(queue)\n",
    "        for i in range(size):\n",
    "            value=queue.pop(0)\n",
    "            currentSum+=value.data\n",
    "            if value.left:\n",
    "                queue.append(value.left)\n",
    "            if value.right:\n",
    "                queue.append(value.right)\n",
    "        maxSum=max(maxSum,currentSum)\n",
    "    return maxSum\n",
    "\n",
    "if __name__ == '__main__':\n",
    "    root=Node(4)\n",
    "    root.left=Node(2)\n",
    "    root.right=Node(-5)\n",
    "    root.left.left=Node(-1)\n",
    "    root.left.right=Node(3)\n",
    "    root.right.left=Node(-2)\n",
    "    root.right.right=Node(6)\n",
    "    print(getMaxLevelSum(root))\n",
    "    print()\n",
    "    root=Node(1)\n",
    "    root.left=Node(2)\n",
    "    root.right=Node(3)\n",
    "    root.left.left=Node(4)\n",
    "    root.left.right=Node(5)\n",
    "    root.right.right=Node(8)\n",
    "    root.right.right.left=Node(6)\n",
    "    root.right.right.right=Node(7)\n",
    "    print(getMaxLevelSum(root))\n"
   ]
  },
  {
   "cell_type": "markdown",
   "metadata": {},
   "source": [
    "# Sum of minimum and maximum elements of all subarrays of size k."
   ]
  },
  {
   "cell_type": "markdown",
   "metadata": {},
   "source": [
    "Same approach as find maximum of all subarrays of size k"
   ]
  },
  {
   "cell_type": "markdown",
   "metadata": {},
   "source": [
    "We use 2 dequeues here one maxQ and one minQ"
   ]
  },
  {
   "cell_type": "code",
   "execution_count": 9,
   "metadata": {},
   "outputs": [
    {
     "name": "stdout",
     "output_type": "stream",
     "text": [
      "-1 7\n",
      "-3 7\n",
      "-3 7\n",
      "-3 7\n",
      "Total Sum is 18\n",
      "\n",
      "-1 5\n",
      "-1 7\n",
      "-3 7\n",
      "-3 7\n",
      "-3 -1\n",
      "Total Sum is 14\n"
     ]
    }
   ],
   "source": [
    "from collections import deque\n",
    "\n",
    "def getMinMaxSubarrraySum(arr,k):\n",
    "    n=len(arr)\n",
    "    maxQ=deque()\n",
    "    minQ=deque()\n",
    "    for i in range(k):\n",
    "        while maxQ and arr[maxQ[-1]]<arr[i]:\n",
    "            maxQ.pop()\n",
    "        maxQ.append(i)\n",
    "    for i in range(k):\n",
    "        while minQ and arr[minQ[-1]]>arr[i]:\n",
    "            minQ.pop()\n",
    "        minQ.append(i)\n",
    "    result=0\n",
    "    for i in range(k,n):\n",
    "        result+=arr[minQ[0]]+arr[maxQ[0]]\n",
    "        print(arr[minQ[0]],arr[maxQ[0]])\n",
    "        while maxQ and maxQ[0]<=i-k:\n",
    "            maxQ.popleft()\n",
    "        while maxQ and arr[maxQ[-1]]<arr[i]:\n",
    "            maxQ.pop()\n",
    "        maxQ.append(i)\n",
    "\n",
    "        while minQ and minQ[0]<=i-k:\n",
    "            minQ.popleft()\n",
    "        while minQ and arr[minQ[-1]]>arr[i]:\n",
    "            minQ.pop()\n",
    "        minQ.append(i)\n",
    "    print(arr[minQ[0]],arr[maxQ[0]])\n",
    "    result+=arr[minQ[0]]+arr[maxQ[0]]\n",
    "    return result\n",
    "\n",
    "if __name__ == '__main__':\n",
    "    arr=[2, 5, -1, 7, -3, -1, -2]\n",
    "    k=4\n",
    "    print(f\"Total Sum is {getMinMaxSubarrraySum(arr,k)}\")\n",
    "    print()\n",
    "    arr=[2, 5, -1, 7, -3, -1, -2]\n",
    "    k=3\n",
    "    print(f\"Total Sum is {getMinMaxSubarrraySum(arr,k)}\")\n"
   ]
  },
  {
   "cell_type": "markdown",
   "metadata": {},
   "source": [
    "# Distance of nearest cell having 1 in a binary matrix"
   ]
  },
  {
   "cell_type": "markdown",
   "metadata": {},
   "source": [
    "Given a binary matrix of N x M, containing at least a value 1. The task is to find the distance of nearest 1 in the matrix for each cell. The distance is calculated as |i1 – i2| + |j1 – j2|, where i1, j1 are the row number and column number of the current cell and i2, j2 are the row number and column number of the nearest cell having value 1."
   ]
  },
  {
   "cell_type": "markdown",
   "metadata": {},
   "source": [
    "Approach-> BFS"
   ]
  },
  {
   "cell_type": "code",
   "execution_count": 11,
   "metadata": {},
   "outputs": [
    {
     "name": "stdout",
     "output_type": "stream",
     "text": [
      "[3, 2, 1, 0]\n",
      "[2, 1, 0, 0]\n",
      "[1, 0, 0, 1]\n"
     ]
    }
   ],
   "source": [
    "def getMinCost(arr):\n",
    "    n=len(arr)\n",
    "    m=len(arr[0])\n",
    "    cost=[[0 if arr[i][j] else float('infinity') for j in range(m)]for i in range(n)]\n",
    "    queue=[]\n",
    "    for i in range(n):\n",
    "        for j in range(m):\n",
    "            if arr[i][j]:\n",
    "                queue.append((i,j))\n",
    "    x=[1,-1,0,0]\n",
    "    y=[0,0,-1,1]\n",
    "    while queue:\n",
    "        element=queue.pop(0)\n",
    "        for i in range(4):\n",
    "            if isSafe(element[0]+x[i],element[1]+y[i],arr,n,m):\n",
    "                cost[element[0]+x[i]][element[1]+y[i]]=cost[element[0]][element[1]]+abs(element[0]+x[i]-element[0])+abs(element[1]+y[i]-element[1])\n",
    "                arr[element[0]+x[i]][element[1]+y[i]]=1\n",
    "                queue.append((element[0]+x[i],element[1]+y[i]))\n",
    "    for i in range(n):\n",
    "        print(cost[i])\n",
    "\n",
    "def isSafe(i,j,arr,n,m):\n",
    "    if i>=0 and i<n and j>=0 and j<m and arr[i][j]==0:\n",
    "        return True\n",
    "\n",
    "if __name__ == '__main__':\n",
    "    arr=[[0, 0, 0, 1],[0, 0, 1, 1],[0, 1, 1, 0]]\n",
    "    getMinCost(arr)\n"
   ]
  },
  {
   "cell_type": "markdown",
   "metadata": {},
   "source": [
    "Time Complexity O(n*m)"
   ]
  },
  {
   "cell_type": "markdown",
   "metadata": {},
   "source": [
    "# Level order traversal line by line"
   ]
  },
  {
   "cell_type": "code",
   "execution_count": 1,
   "metadata": {},
   "outputs": [
    {
     "name": "stdout",
     "output_type": "stream",
     "text": [
      "1 \n",
      "2 3 \n",
      "4 5 \n"
     ]
    }
   ],
   "source": [
    "class Node:\n",
    "    def __init__(self,data):\n",
    "        self.data=data\n",
    "        self.left=None\n",
    "        self.right=None\n",
    "\n",
    "def LOTLineByLine(root):\n",
    "    if root is None:\n",
    "        return\n",
    "    queue=[]\n",
    "    queue.append(root)\n",
    "    while queue:\n",
    "        size=len(queue)\n",
    "        for i in range(size):\n",
    "            element=queue.pop(0)\n",
    "            print(element.data,end=\" \")\n",
    "            if element.left:\n",
    "                queue.append(element.left)\n",
    "            if element.right:\n",
    "                queue.append(element.right)\n",
    "        print()\n",
    "\n",
    "\n",
    "if __name__ == '__main__':\n",
    "    root=Node(1)\n",
    "    root.left=Node(2)\n",
    "    root.right=Node(3)\n",
    "    root.left.left=Node(4)\n",
    "    root.left.right=Node(5)\n",
    "    LOTLineByLine(root)\n"
   ]
  },
  {
   "cell_type": "markdown",
   "metadata": {},
   "source": [
    "# First negative integer in every window of size k"
   ]
  },
  {
   "cell_type": "markdown",
   "metadata": {},
   "source": [
    "Naive Approach-> Run 2 loops and check for every window"
   ]
  },
  {
   "cell_type": "markdown",
   "metadata": {},
   "source": [
    "Efficient Approach-> We can use deque and store useful elements in it i.e, only the negative numbers present tin the window and the 0th index gives the first negative number in the window"
   ]
  },
  {
   "cell_type": "code",
   "execution_count": 2,
   "metadata": {},
   "outputs": [
    {
     "name": "stdout",
     "output_type": "stream",
     "text": [
      "-8\n",
      "0\n",
      "-6\n",
      "-6\n",
      "\n",
      "\n",
      "-1\n",
      "-1\n",
      "-7\n",
      "-15\n",
      "-15\n",
      "0\n"
     ]
    }
   ],
   "source": [
    "from collections import deque\n",
    "\n",
    "def findFirstNegativeNumber(arr,k):\n",
    "    dq=deque()\n",
    "    n=len(arr)\n",
    "    for i in range(k):\n",
    "        if arr[i]<0:\n",
    "            dq.append(i)\n",
    "    for i in range(k,n):\n",
    "        if dq:\n",
    "            print(arr[dq[0]])\n",
    "        else:\n",
    "            print(0)\n",
    "        while dq and dq[0]<=i-k:\n",
    "            dq.popleft()\n",
    "        if arr[i]<0:\n",
    "            dq.append(i)\n",
    "    if dq:\n",
    "        print(arr[dq[0]])\n",
    "    else:\n",
    "        print(0)\n",
    "\n",
    "if __name__ == '__main__':\n",
    "    arr=[-8, 2, 3, -6, 10]\n",
    "    k=2\n",
    "    findFirstNegativeNumber(arr,k)\n",
    "    print('\\n')\n",
    "    arr=[12, -1, -7, 8, -15, 30, 16, 28]\n",
    "    k=3\n",
    "    findFirstNegativeNumber(arr,k)\n"
   ]
  },
  {
   "cell_type": "markdown",
   "metadata": {},
   "source": [
    "**Space Optimized Approach->**"
   ]
  },
  {
   "cell_type": "code",
   "execution_count": 4,
   "metadata": {},
   "outputs": [
    {
     "name": "stdout",
     "output_type": "stream",
     "text": [
      "-1\n",
      "-1\n",
      "-7\n",
      "-15\n",
      "-15\n",
      "0\n"
     ]
    }
   ],
   "source": [
    "def findFirstNegativeNumber(arr,k):\n",
    "    firstNegativeIndex=0\n",
    "#     for each window\n",
    "    for i in range(k-1,len(arr)):\n",
    "#         skip out elements out of window and positive elements\n",
    "        while firstNegativeIndex<i and (firstNegativeIndex<=i-k or arr[firstNegativeIndex]>0):\n",
    "            firstNegativeIndex+=1\n",
    "        print(arr[firstNegativeIndex]) if arr[firstNegativeIndex]<0 else print(0)\n",
    "\n",
    "if __name__ == '__main__':\n",
    "    arr=[12, -1, -7, 8, -15, 30, 16, 28]\n",
    "    k=3\n",
    "    findFirstNegativeNumber(arr,k)\n"
   ]
  },
  {
   "cell_type": "markdown",
   "metadata": {},
   "source": [
    "# Minimum sum of squares of character counts in a given string after removing k characters"
   ]
  },
  {
   "cell_type": "markdown",
   "metadata": {},
   "source": [
    "Approach -> Priority Queue implemented using heap"
   ]
  },
  {
   "cell_type": "code",
   "execution_count": 5,
   "metadata": {},
   "outputs": [
    {
     "name": "stdout",
     "output_type": "stream",
     "text": [
      "6\n",
      "2\n",
      "9\n"
     ]
    }
   ],
   "source": [
    "class Node:\n",
    "    def __init__(self,data,freq):\n",
    "        self.data=data\n",
    "        self.freq=freq\n",
    "\n",
    "def heapify(heapArr,index,n):\n",
    "    left=2*index+1\n",
    "    right=2*index+2\n",
    "    if left<n and heapArr[left].freq>heapArr[index].freq:\n",
    "        largest=left\n",
    "    else:\n",
    "        largest=index\n",
    "    if right<n and heapArr[right].freq>heapArr[largest].freq:\n",
    "        largest=right\n",
    "    if largest!=index:\n",
    "        heapArr[largest],heapArr[index]=heapArr[index],heapArr[largest]\n",
    "        heapify(heapArr, largest, n)\n",
    "\n",
    "def buildHeap(heapArr):\n",
    "    n=len(heapArr)\n",
    "    for i in range((n//2)-1,-1,-1):\n",
    "        heapify(heapArr,i,n)\n",
    "\n",
    "def getMinSum(s,k):\n",
    "    hash={}\n",
    "    for i in s:\n",
    "        if i in hash:\n",
    "            hash[i]+=1\n",
    "        else:\n",
    "            hash[i]=1\n",
    "    heapArr=[]\n",
    "    for i in hash:\n",
    "        heapArr.append(Node(i,hash[i]))\n",
    "    buildHeap(heapArr)\n",
    "    for i in range(k):\n",
    "        element=heapArr[0]\n",
    "        element.freq-=1\n",
    "        if element.freq>0:\n",
    "            # heapArr[0].data=element.data\n",
    "            heapArr[0].freq=element.freq\n",
    "        else:\n",
    "            # heapArr[0].data=element.data\n",
    "            heapArr[0].freq=float('-infnity')\n",
    "        heapify(heapArr, 0, len(heapArr))\n",
    "    result=0\n",
    "    for i in heapArr:\n",
    "        if i.freq>0:\n",
    "            result+=i.freq**2\n",
    "    return result\n",
    "\n",
    "if __name__ == '__main__':\n",
    "    s=\"abccc\"\n",
    "    k=1\n",
    "    print(getMinSum(s,k))\n",
    "    s=\"aaab\"\n",
    "    k=2\n",
    "    print(getMinSum(s,k))\n",
    "    s=\"saideep\"\n",
    "    k=0\n",
    "    print(getMinSum(s,k))\n"
   ]
  },
  {
   "cell_type": "markdown",
   "metadata": {},
   "source": [
    "# Queue based approach for first non-repeating character in a stream"
   ]
  },
  {
   "cell_type": "markdown",
   "metadata": {},
   "source": [
    "Deque"
   ]
  },
  {
   "cell_type": "code",
   "execution_count": 6,
   "metadata": {},
   "outputs": [
    {
     "name": "stdout",
     "output_type": "stream",
     "text": [
      "a\n",
      "-1\n",
      "b\n",
      "b\n"
     ]
    }
   ],
   "source": [
    "from collections import deque\n",
    "\n",
    "def getFirstNonRepeatingCharacter(arr):\n",
    "    dq=deque()\n",
    "    hash={}\n",
    "    for i in arr:\n",
    "        if i in hash:\n",
    "            hash[i]+=1\n",
    "        else:\n",
    "            dq.append(i)\n",
    "            hash[i]=1\n",
    "        while dq and hash[dq[0]]>1:\n",
    "            dq.popleft()\n",
    "        if dq:\n",
    "            print(dq[0])\n",
    "        else:\n",
    "            print(-1)\n",
    "\n",
    "\n",
    "\n",
    "if __name__ == '__main__':\n",
    "    arr=['a','a','b','c']\n",
    "    # arr=['a','a','c']\n",
    "    getFirstNonRepeatingCharacter(arr)\n"
   ]
  },
  {
   "cell_type": "code",
   "execution_count": null,
   "metadata": {},
   "outputs": [],
   "source": []
  }
 ],
 "metadata": {
  "kernelspec": {
   "display_name": "Python 3",
   "language": "python",
   "name": "python3"
  },
  "language_info": {
   "codemirror_mode": {
    "name": "ipython",
    "version": 3
   },
   "file_extension": ".py",
   "mimetype": "text/x-python",
   "name": "python",
   "nbconvert_exporter": "python",
   "pygments_lexer": "ipython3",
   "version": "3.7.6"
  }
 },
 "nbformat": 4,
 "nbformat_minor": 4
}
